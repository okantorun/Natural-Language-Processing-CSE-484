{
  "nbformat": 4,
  "nbformat_minor": 0,
  "metadata": {
    "colab": {
      "provenance": [],
      "machine_shape": "hm"
    },
    "kernelspec": {
      "name": "python3",
      "display_name": "Python 3"
    },
    "language_info": {
      "name": "python"
    },
    "gpuClass": "premium",
    "accelerator": "GPU"
  },
  "cells": [
    {
      "cell_type": "code",
      "execution_count": 116,
      "metadata": {
        "id": "q6cJkkQIQYZq"
      },
      "outputs": [],
      "source": [
        "import string\n",
        "import re\n",
        "from numpy import array, argmax, random, take\n",
        "import pandas as pd\n",
        "from keras.models import Sequential\n",
        "from keras.layers import Dense, LSTM, Embedding, RepeatVector\n",
        "from keras.preprocessing.text import Tokenizer\n",
        "from keras.callbacks import ModelCheckpoint\n",
        "from keras_preprocessing.sequence import pad_sequences\n",
        "from keras.models import load_model\n",
        "from keras import optimizers\n",
        "import matplotlib.pyplot as plt\n",
        "%matplotlib inline\n",
        "pd.set_option('display.max_colwidth', 200)"
      ]
    },
    {
      "cell_type": "code",
      "source": [
        "def read_text(filename):\n",
        "    file = open(filename, mode='rt', encoding='utf-8')\n",
        "    text = file.read()\n",
        "    file.close()\n",
        "    return text"
      ],
      "metadata": {
        "id": "ddrGjpmkULif"
      },
      "execution_count": 117,
      "outputs": []
    },
    {
      "cell_type": "code",
      "source": [
        "def map_files(file1,file2):\n",
        "  with open(file1) as f1, open(file2) as f2:\n",
        "    lines1 = f1.readlines()\n",
        "    lines2 = f2.readlines()\n",
        "    merged_lines = [line1.strip() + '*' + line2.strip() for line1, line2 in zip(lines1, lines2)]\n",
        "\n",
        "  with open('merged_file.txt', 'w') as f:\n",
        "      for line in merged_lines:\n",
        "          f.write(line + '\\n')"
      ],
      "metadata": {
        "id": "zaz-sWpRRWCW"
      },
      "execution_count": 118,
      "outputs": []
    },
    {
      "cell_type": "code",
      "source": [
        "def split_lines(text):\n",
        "    lines = text.strip().split('\\n')\n",
        "    lines = [i.split('*') for i in lines]\n",
        "    return lines"
      ],
      "metadata": {
        "id": "qkgeLHsIT-Y4"
      },
      "execution_count": 119,
      "outputs": []
    },
    {
      "cell_type": "code",
      "source": [
        "map_files(\"dataset.new.txt\", \"dataset.old.txt\")"
      ],
      "metadata": {
        "id": "EaIz-UoARlqu"
      },
      "execution_count": 120,
      "outputs": []
    },
    {
      "cell_type": "code",
      "source": [
        "data = read_text(\"merged_file.txt\")\n",
        "ottoman_turkish = split_lines(data)\n",
        "ottoman_turkish = array(ottoman_turkish)"
      ],
      "metadata": {
        "id": "Xnf1O46hT7Tg"
      },
      "execution_count": 121,
      "outputs": []
    },
    {
      "cell_type": "code",
      "source": [
        "ottoman_turkish = ottoman_turkish[:30000,:]\n",
        "ottoman_turkish[1]"
      ],
      "metadata": {
        "id": "Fbqs4mtwUb60",
        "colab": {
          "base_uri": "https://localhost:8080/"
        },
        "outputId": "88aa00bf-d061-497a-bd9c-bee40d4f5c72"
      },
      "execution_count": 122,
      "outputs": [
        {
          "output_type": "execute_result",
          "data": {
            "text/plain": [
              "array(['genel durum ve görünüm : osmanli devletinin içinde bulunduğu grup , genel savaşta yenilmiş , osmanli ordusu her tarafta zedelenmiş , şartlari ağir bir ateşkes anlaşmasi imzalanmiş .',\n",
              "       'vaziyet ve manzarai umumiye : osmanlı devletinin dahil bulunduğu grup , harbi umumide mağlup olmuş , osmanlı ordusu her tarafta zedelenmiş , şeraiti ağır , bir mütarekename imzalanmış .'],\n",
              "      dtype='<U2067')"
            ]
          },
          "metadata": {},
          "execution_count": 122
        }
      ]
    },
    {
      "cell_type": "code",
      "source": [
        "ottoman_turkish[:,0] = [s.translate(str.maketrans('', '', string.punctuation)) for s in ottoman_turkish[:,0]]\n",
        "ottoman_turkish[:,1] = [s.translate(str.maketrans('', '', string.punctuation)) for s in ottoman_turkish[:,1]]\n"
      ],
      "metadata": {
        "id": "jk1mtfE0VFyZ"
      },
      "execution_count": 123,
      "outputs": []
    },
    {
      "cell_type": "code",
      "source": [
        "# convert text to lowercase\n",
        "for i in range(len(ottoman_turkish)):\n",
        "    ottoman_turkish[i,0] = ottoman_turkish[i,0].lower()\n",
        "    ottoman_turkish[i,1] = ottoman_turkish[i,1].lower()"
      ],
      "metadata": {
        "id": "0vuMv0hSVJUM"
      },
      "execution_count": 124,
      "outputs": []
    },
    {
      "cell_type": "code",
      "source": [
        "def tokenization(lines):\n",
        "    tokenizer = Tokenizer()\n",
        "    tokenizer.fit_on_texts(lines)\n",
        "    return tokenizer"
      ],
      "metadata": {
        "id": "Tehc6CCrVbUu"
      },
      "execution_count": 125,
      "outputs": []
    },
    {
      "cell_type": "code",
      "source": [
        "turkish_tokenizer = tokenization(ottoman_turkish[:, 0])\n",
        "turkish_vocab_size = len(turkish_tokenizer.word_index) + 1\n",
        "\n",
        "turkish_length = 8\n",
        "print('Turkish Vocabulary Size: %d' % turkish_vocab_size)"
      ],
      "metadata": {
        "id": "J-4UE9DcW6P_",
        "colab": {
          "base_uri": "https://localhost:8080/"
        },
        "outputId": "4e9bfde0-8c9d-490f-d464-29cb4a75e5ab"
      },
      "execution_count": 126,
      "outputs": [
        {
          "output_type": "stream",
          "name": "stdout",
          "text": [
            "Turkish Vocabulary Size: 31298\n"
          ]
        }
      ]
    },
    {
      "cell_type": "code",
      "source": [
        "ottoman_tokenizer = tokenization(ottoman_turkish[:, 1])\n",
        "ottoman_vocab_size = len(ottoman_tokenizer.word_index) + 1\n",
        "\n",
        "ottoman_length = 8\n",
        "print('Ottoman Vocabulary Size: %d' % ottoman_vocab_size)"
      ],
      "metadata": {
        "id": "q1hx-fA9Xrdg",
        "colab": {
          "base_uri": "https://localhost:8080/"
        },
        "outputId": "5b00234f-5647-4805-a3fa-06693b6f4753"
      },
      "execution_count": 127,
      "outputs": [
        {
          "output_type": "stream",
          "name": "stdout",
          "text": [
            "Ottoman Vocabulary Size: 30544\n"
          ]
        }
      ]
    },
    {
      "cell_type": "code",
      "source": [
        "def encode_sequences(tokenizer, length, lines):\n",
        "    seq = tokenizer.texts_to_sequences(lines)\n",
        "    seq = pad_sequences(seq, maxlen=length, padding='post')\n",
        "    return seq"
      ],
      "metadata": {
        "id": "MVF77QRkYfEY"
      },
      "execution_count": 128,
      "outputs": []
    },
    {
      "cell_type": "code",
      "source": [
        "from sklearn.model_selection import train_test_split\n",
        "train, test = train_test_split(ottoman_turkish, test_size=0.2, random_state = 12)"
      ],
      "metadata": {
        "id": "ckj09K6HVV-2"
      },
      "execution_count": 129,
      "outputs": []
    },
    {
      "cell_type": "code",
      "source": [
        "# prepare training data\n",
        "trainX = encode_sequences(ottoman_tokenizer, ottoman_length, train[:, 1])\n",
        "trainY = encode_sequences(turkish_tokenizer, turkish_length, train[:, 0])\n",
        "\n",
        "# prepare validation data\n",
        "testX = encode_sequences(ottoman_tokenizer, ottoman_length, test[:, 1])\n",
        "testY = encode_sequences(turkish_tokenizer, turkish_length, test[:, 0])"
      ],
      "metadata": {
        "id": "uiqQuLZFY2JC"
      },
      "execution_count": 130,
      "outputs": []
    },
    {
      "cell_type": "code",
      "source": [
        "# build NMT model\n",
        "def define_model(in_vocab,out_vocab, in_timesteps,out_timesteps,units):\n",
        "    model = Sequential()\n",
        "    model.add(Embedding(in_vocab, units, input_length=in_timesteps, mask_zero=True))\n",
        "    model.add(LSTM(units))\n",
        "    model.add(RepeatVector(out_timesteps))\n",
        "    model.add(LSTM(units, return_sequences=True))\n",
        "    model.add(Dense(out_vocab, activation='softmax'))\n",
        "    return model"
      ],
      "metadata": {
        "id": "izwcpbjrZQgk"
      },
      "execution_count": 131,
      "outputs": []
    },
    {
      "cell_type": "code",
      "source": [
        "# model compilation\n",
        "model = define_model(ottoman_vocab_size, turkish_vocab_size, ottoman_length, turkish_length, 512)"
      ],
      "metadata": {
        "id": "pxUmydsRZX5O"
      },
      "execution_count": 132,
      "outputs": []
    },
    {
      "cell_type": "code",
      "source": [
        "rms = optimizers.RMSprop(lr=0.001)\n",
        "model.compile(optimizer=rms, loss='sparse_categorical_crossentropy')"
      ],
      "metadata": {
        "id": "sLF-zkdlZk7U",
        "colab": {
          "base_uri": "https://localhost:8080/"
        },
        "outputId": "24105b7a-3022-409a-cf09-933de70745f2"
      },
      "execution_count": 133,
      "outputs": [
        {
          "output_type": "stream",
          "name": "stderr",
          "text": [
            "/usr/local/lib/python3.8/dist-packages/keras/optimizers/optimizer_v2/rmsprop.py:135: UserWarning: The `lr` argument is deprecated, use `learning_rate` instead.\n",
            "  super(RMSprop, self).__init__(name, **kwargs)\n"
          ]
        }
      ]
    },
    {
      "cell_type": "code",
      "source": [
        "filename = 'model.h1.24_jan_19'\n",
        "checkpoint = ModelCheckpoint(filename, monitor='val_loss', verbose=1, save_best_only=True, mode='min')\n",
        "\n",
        "# train model\n",
        "history = model.fit(trainX, trainY.reshape(trainY.shape[0], trainY.shape[1], 1),\n",
        "                    epochs=100, batch_size=128, validation_split = 0.2,callbacks=[checkpoint], \n",
        "                    verbose=1)"
      ],
      "metadata": {
        "id": "pt7g-p5eZr4Q",
        "colab": {
          "base_uri": "https://localhost:8080/"
        },
        "outputId": "e339ec5d-5d9f-4f3f-e0b1-860d51c3d1b5"
      },
      "execution_count": 134,
      "outputs": [
        {
          "output_type": "stream",
          "name": "stdout",
          "text": [
            "Epoch 1/100\n",
            "150/150 [==============================] - ETA: 0s - loss: 7.5056\n",
            "Epoch 1: val_loss improved from inf to 7.18552, saving model to model.h1.24_jan_19\n"
          ]
        },
        {
          "output_type": "stream",
          "name": "stderr",
          "text": [
            "WARNING:absl:Found untraced functions such as lstm_cell_16_layer_call_fn, lstm_cell_16_layer_call_and_return_conditional_losses, lstm_cell_17_layer_call_fn, lstm_cell_17_layer_call_and_return_conditional_losses while saving (showing 4 of 4). These functions will not be directly callable after loading.\n"
          ]
        },
        {
          "output_type": "stream",
          "name": "stdout",
          "text": [
            "\b\b\b\b\b\b\b\b\b\b\b\b\b\b\b\b\b\b\b\b\b\b\b\b\b\b\b\b\b\b\b\b\b\b\b\b\b\b\b\b\b\b\b\b\b\b\b\b\b\b\b\b\b\b\b\b\b\b\b\b\b\b\b\b\b\r150/150 [==============================] - 20s 109ms/step - loss: 7.5056 - val_loss: 7.1855\n",
            "Epoch 2/100\n",
            "146/150 [============================>.] - ETA: 0s - loss: 6.8892\n",
            "Epoch 2: val_loss improved from 7.18552 to 6.89471, saving model to model.h1.24_jan_19\n"
          ]
        },
        {
          "output_type": "stream",
          "name": "stderr",
          "text": [
            "WARNING:absl:Found untraced functions such as lstm_cell_16_layer_call_fn, lstm_cell_16_layer_call_and_return_conditional_losses, lstm_cell_17_layer_call_fn, lstm_cell_17_layer_call_and_return_conditional_losses while saving (showing 4 of 4). These functions will not be directly callable after loading.\n"
          ]
        },
        {
          "output_type": "stream",
          "name": "stdout",
          "text": [
            "\b\b\b\b\b\b\b\b\b\b\b\b\b\b\b\b\b\b\b\b\b\b\b\b\b\b\b\b\b\b\b\b\b\b\b\b\b\b\b\b\b\b\b\b\b\b\b\b\b\b\b\b\b\b\b\b\b\b\b\b\b\b\b\b\b\r150/150 [==============================] - 15s 98ms/step - loss: 6.8861 - val_loss: 6.8947\n",
            "Epoch 3/100\n",
            "146/150 [============================>.] - ETA: 0s - loss: 6.5380\n",
            "Epoch 3: val_loss improved from 6.89471 to 6.74048, saving model to model.h1.24_jan_19\n"
          ]
        },
        {
          "output_type": "stream",
          "name": "stderr",
          "text": [
            "WARNING:absl:Found untraced functions such as lstm_cell_16_layer_call_fn, lstm_cell_16_layer_call_and_return_conditional_losses, lstm_cell_17_layer_call_fn, lstm_cell_17_layer_call_and_return_conditional_losses while saving (showing 4 of 4). These functions will not be directly callable after loading.\n"
          ]
        },
        {
          "output_type": "stream",
          "name": "stdout",
          "text": [
            "\b\b\b\b\b\b\b\b\b\b\b\b\b\b\b\b\b\b\b\b\b\b\b\b\b\b\b\b\b\b\b\b\b\b\b\b\b\b\b\b\b\b\b\b\b\b\b\b\b\b\b\b\b\b\b\b\b\b\b\b\b\b\b\b\b\r150/150 [==============================] - 15s 98ms/step - loss: 6.5389 - val_loss: 6.7405\n",
            "Epoch 4/100\n",
            "146/150 [============================>.] - ETA: 0s - loss: 6.2818\n",
            "Epoch 4: val_loss improved from 6.74048 to 6.60364, saving model to model.h1.24_jan_19\n"
          ]
        },
        {
          "output_type": "stream",
          "name": "stderr",
          "text": [
            "WARNING:absl:Found untraced functions such as lstm_cell_16_layer_call_fn, lstm_cell_16_layer_call_and_return_conditional_losses, lstm_cell_17_layer_call_fn, lstm_cell_17_layer_call_and_return_conditional_losses while saving (showing 4 of 4). These functions will not be directly callable after loading.\n"
          ]
        },
        {
          "output_type": "stream",
          "name": "stdout",
          "text": [
            "\b\b\b\b\b\b\b\b\b\b\b\b\b\b\b\b\b\b\b\b\b\b\b\b\b\b\b\b\b\b\b\b\b\b\b\b\b\b\b\b\b\b\b\b\b\b\b\b\b\b\b\b\b\b\b\b\b\b\b\b\b\b\b\b\b\r150/150 [==============================] - 15s 99ms/step - loss: 6.2828 - val_loss: 6.6036\n",
            "Epoch 5/100\n",
            "146/150 [============================>.] - ETA: 0s - loss: 6.0210\n",
            "Epoch 5: val_loss improved from 6.60364 to 6.39896, saving model to model.h1.24_jan_19\n"
          ]
        },
        {
          "output_type": "stream",
          "name": "stderr",
          "text": [
            "WARNING:absl:Found untraced functions such as lstm_cell_16_layer_call_fn, lstm_cell_16_layer_call_and_return_conditional_losses, lstm_cell_17_layer_call_fn, lstm_cell_17_layer_call_and_return_conditional_losses while saving (showing 4 of 4). These functions will not be directly callable after loading.\n"
          ]
        },
        {
          "output_type": "stream",
          "name": "stdout",
          "text": [
            "\b\b\b\b\b\b\b\b\b\b\b\b\b\b\b\b\b\b\b\b\b\b\b\b\b\b\b\b\b\b\b\b\b\b\b\b\b\b\b\b\b\b\b\b\b\b\b\b\b\b\b\b\b\b\b\b\b\b\b\b\b\b\b\b\b\r150/150 [==============================] - 15s 99ms/step - loss: 6.0216 - val_loss: 6.3990\n",
            "Epoch 6/100\n",
            "146/150 [============================>.] - ETA: 0s - loss: 5.7389\n",
            "Epoch 6: val_loss improved from 6.39896 to 6.26703, saving model to model.h1.24_jan_19\n"
          ]
        },
        {
          "output_type": "stream",
          "name": "stderr",
          "text": [
            "WARNING:absl:Found untraced functions such as lstm_cell_16_layer_call_fn, lstm_cell_16_layer_call_and_return_conditional_losses, lstm_cell_17_layer_call_fn, lstm_cell_17_layer_call_and_return_conditional_losses while saving (showing 4 of 4). These functions will not be directly callable after loading.\n"
          ]
        },
        {
          "output_type": "stream",
          "name": "stdout",
          "text": [
            "\b\b\b\b\b\b\b\b\b\b\b\b\b\b\b\b\b\b\b\b\b\b\b\b\b\b\b\b\b\b\b\b\b\b\b\b\b\b\b\b\b\b\b\b\b\b\b\b\b\b\b\b\b\b\b\b\b\b\b\b\b\b\b\b\b\r150/150 [==============================] - 15s 98ms/step - loss: 5.7406 - val_loss: 6.2670\n",
            "Epoch 7/100\n",
            "150/150 [==============================] - ETA: 0s - loss: 5.4500\n",
            "Epoch 7: val_loss improved from 6.26703 to 6.14587, saving model to model.h1.24_jan_19\n"
          ]
        },
        {
          "output_type": "stream",
          "name": "stderr",
          "text": [
            "WARNING:absl:Found untraced functions such as lstm_cell_16_layer_call_fn, lstm_cell_16_layer_call_and_return_conditional_losses, lstm_cell_17_layer_call_fn, lstm_cell_17_layer_call_and_return_conditional_losses while saving (showing 4 of 4). These functions will not be directly callable after loading.\n"
          ]
        },
        {
          "output_type": "stream",
          "name": "stdout",
          "text": [
            "\b\b\b\b\b\b\b\b\b\b\b\b\b\b\b\b\b\b\b\b\b\b\b\b\b\b\b\b\b\b\b\b\b\b\b\b\b\b\b\b\b\b\b\b\b\b\b\b\b\b\b\b\b\b\b\b\b\b\b\b\b\b\b\b\b\r150/150 [==============================] - 15s 98ms/step - loss: 5.4500 - val_loss: 6.1459\n",
            "Epoch 8/100\n",
            "150/150 [==============================] - ETA: 0s - loss: 5.1528\n",
            "Epoch 8: val_loss improved from 6.14587 to 5.96366, saving model to model.h1.24_jan_19\n"
          ]
        },
        {
          "output_type": "stream",
          "name": "stderr",
          "text": [
            "WARNING:absl:Found untraced functions such as lstm_cell_16_layer_call_fn, lstm_cell_16_layer_call_and_return_conditional_losses, lstm_cell_17_layer_call_fn, lstm_cell_17_layer_call_and_return_conditional_losses while saving (showing 4 of 4). These functions will not be directly callable after loading.\n"
          ]
        },
        {
          "output_type": "stream",
          "name": "stdout",
          "text": [
            "\b\b\b\b\b\b\b\b\b\b\b\b\b\b\b\b\b\b\b\b\b\b\b\b\b\b\b\b\b\b\b\b\b\b\b\b\b\b\b\b\b\b\b\b\b\b\b\b\b\b\b\b\b\b\b\b\b\b\b\b\b\b\b\b\b\r150/150 [==============================] - 15s 99ms/step - loss: 5.1528 - val_loss: 5.9637\n",
            "Epoch 9/100\n",
            "146/150 [============================>.] - ETA: 0s - loss: 4.8537\n",
            "Epoch 9: val_loss improved from 5.96366 to 5.82863, saving model to model.h1.24_jan_19\n"
          ]
        },
        {
          "output_type": "stream",
          "name": "stderr",
          "text": [
            "WARNING:absl:Found untraced functions such as lstm_cell_16_layer_call_fn, lstm_cell_16_layer_call_and_return_conditional_losses, lstm_cell_17_layer_call_fn, lstm_cell_17_layer_call_and_return_conditional_losses while saving (showing 4 of 4). These functions will not be directly callable after loading.\n"
          ]
        },
        {
          "output_type": "stream",
          "name": "stdout",
          "text": [
            "\b\b\b\b\b\b\b\b\b\b\b\b\b\b\b\b\b\b\b\b\b\b\b\b\b\b\b\b\b\b\b\b\b\b\b\b\b\b\b\b\b\b\b\b\b\b\b\b\b\b\b\b\b\b\b\b\b\b\b\b\b\b\b\b\b\r150/150 [==============================] - 15s 99ms/step - loss: 4.8568 - val_loss: 5.8286\n",
            "Epoch 10/100\n",
            "146/150 [============================>.] - ETA: 0s - loss: 4.5515\n",
            "Epoch 10: val_loss improved from 5.82863 to 5.73595, saving model to model.h1.24_jan_19\n"
          ]
        },
        {
          "output_type": "stream",
          "name": "stderr",
          "text": [
            "WARNING:absl:Found untraced functions such as lstm_cell_16_layer_call_fn, lstm_cell_16_layer_call_and_return_conditional_losses, lstm_cell_17_layer_call_fn, lstm_cell_17_layer_call_and_return_conditional_losses while saving (showing 4 of 4). These functions will not be directly callable after loading.\n"
          ]
        },
        {
          "output_type": "stream",
          "name": "stdout",
          "text": [
            "\b\b\b\b\b\b\b\b\b\b\b\b\b\b\b\b\b\b\b\b\b\b\b\b\b\b\b\b\b\b\b\b\b\b\b\b\b\b\b\b\b\b\b\b\b\b\b\b\b\b\b\b\b\b\b\b\b\b\b\b\b\b\b\b\b\r150/150 [==============================] - 15s 99ms/step - loss: 4.5582 - val_loss: 5.7360\n",
            "Epoch 11/100\n",
            "146/150 [============================>.] - ETA: 0s - loss: 4.2530\n",
            "Epoch 11: val_loss improved from 5.73595 to 5.58076, saving model to model.h1.24_jan_19\n"
          ]
        },
        {
          "output_type": "stream",
          "name": "stderr",
          "text": [
            "WARNING:absl:Found untraced functions such as lstm_cell_16_layer_call_fn, lstm_cell_16_layer_call_and_return_conditional_losses, lstm_cell_17_layer_call_fn, lstm_cell_17_layer_call_and_return_conditional_losses while saving (showing 4 of 4). These functions will not be directly callable after loading.\n"
          ]
        },
        {
          "output_type": "stream",
          "name": "stdout",
          "text": [
            "\b\b\b\b\b\b\b\b\b\b\b\b\b\b\b\b\b\b\b\b\b\b\b\b\b\b\b\b\b\b\b\b\b\b\b\b\b\b\b\b\b\b\b\b\b\b\b\b\b\b\b\b\b\b\b\b\b\b\b\b\b\b\b\b\b\r150/150 [==============================] - 14s 94ms/step - loss: 4.2565 - val_loss: 5.5808\n",
            "Epoch 12/100\n",
            "146/150 [============================>.] - ETA: 0s - loss: 3.9602\n",
            "Epoch 12: val_loss improved from 5.58076 to 5.48660, saving model to model.h1.24_jan_19\n"
          ]
        },
        {
          "output_type": "stream",
          "name": "stderr",
          "text": [
            "WARNING:absl:Found untraced functions such as lstm_cell_16_layer_call_fn, lstm_cell_16_layer_call_and_return_conditional_losses, lstm_cell_17_layer_call_fn, lstm_cell_17_layer_call_and_return_conditional_losses while saving (showing 4 of 4). These functions will not be directly callable after loading.\n"
          ]
        },
        {
          "output_type": "stream",
          "name": "stdout",
          "text": [
            "\b\b\b\b\b\b\b\b\b\b\b\b\b\b\b\b\b\b\b\b\b\b\b\b\b\b\b\b\b\b\b\b\b\b\b\b\b\b\b\b\b\b\b\b\b\b\b\b\b\b\b\b\b\b\b\b\b\b\b\b\b\b\b\b\b\r150/150 [==============================] - 15s 101ms/step - loss: 3.9682 - val_loss: 5.4866\n",
            "Epoch 13/100\n",
            "150/150 [==============================] - ETA: 0s - loss: 3.6933\n",
            "Epoch 13: val_loss improved from 5.48660 to 5.35829, saving model to model.h1.24_jan_19\n"
          ]
        },
        {
          "output_type": "stream",
          "name": "stderr",
          "text": [
            "WARNING:absl:Found untraced functions such as lstm_cell_16_layer_call_fn, lstm_cell_16_layer_call_and_return_conditional_losses, lstm_cell_17_layer_call_fn, lstm_cell_17_layer_call_and_return_conditional_losses while saving (showing 4 of 4). These functions will not be directly callable after loading.\n"
          ]
        },
        {
          "output_type": "stream",
          "name": "stdout",
          "text": [
            "\b\b\b\b\b\b\b\b\b\b\b\b\b\b\b\b\b\b\b\b\b\b\b\b\b\b\b\b\b\b\b\b\b\b\b\b\b\b\b\b\b\b\b\b\b\b\b\b\b\b\b\b\b\b\b\b\b\b\b\b\b\b\b\b\b\r150/150 [==============================] - 15s 99ms/step - loss: 3.6933 - val_loss: 5.3583\n",
            "Epoch 14/100\n",
            "146/150 [============================>.] - ETA: 0s - loss: 3.4126\n",
            "Epoch 14: val_loss improved from 5.35829 to 5.24153, saving model to model.h1.24_jan_19\n"
          ]
        },
        {
          "output_type": "stream",
          "name": "stderr",
          "text": [
            "WARNING:absl:Found untraced functions such as lstm_cell_16_layer_call_fn, lstm_cell_16_layer_call_and_return_conditional_losses, lstm_cell_17_layer_call_fn, lstm_cell_17_layer_call_and_return_conditional_losses while saving (showing 4 of 4). These functions will not be directly callable after loading.\n"
          ]
        },
        {
          "output_type": "stream",
          "name": "stdout",
          "text": [
            "\b\b\b\b\b\b\b\b\b\b\b\b\b\b\b\b\b\b\b\b\b\b\b\b\b\b\b\b\b\b\b\b\b\b\b\b\b\b\b\b\b\b\b\b\b\b\b\b\b\b\b\b\b\b\b\b\b\b\b\b\b\b\b\b\b\r150/150 [==============================] - 15s 98ms/step - loss: 3.4188 - val_loss: 5.2415\n",
            "Epoch 15/100\n",
            "146/150 [============================>.] - ETA: 0s - loss: 3.1508\n",
            "Epoch 15: val_loss improved from 5.24153 to 5.11504, saving model to model.h1.24_jan_19\n"
          ]
        },
        {
          "output_type": "stream",
          "name": "stderr",
          "text": [
            "WARNING:absl:Found untraced functions such as lstm_cell_16_layer_call_fn, lstm_cell_16_layer_call_and_return_conditional_losses, lstm_cell_17_layer_call_fn, lstm_cell_17_layer_call_and_return_conditional_losses while saving (showing 4 of 4). These functions will not be directly callable after loading.\n"
          ]
        },
        {
          "output_type": "stream",
          "name": "stdout",
          "text": [
            "\b\b\b\b\b\b\b\b\b\b\b\b\b\b\b\b\b\b\b\b\b\b\b\b\b\b\b\b\b\b\b\b\b\b\b\b\b\b\b\b\b\b\b\b\b\b\b\b\b\b\b\b\b\b\b\b\b\b\b\b\b\b\b\b\b\r150/150 [==============================] - 15s 98ms/step - loss: 3.1555 - val_loss: 5.1150\n",
            "Epoch 16/100\n",
            "146/150 [============================>.] - ETA: 0s - loss: 2.8992\n",
            "Epoch 16: val_loss improved from 5.11504 to 4.98490, saving model to model.h1.24_jan_19\n"
          ]
        },
        {
          "output_type": "stream",
          "name": "stderr",
          "text": [
            "WARNING:absl:Found untraced functions such as lstm_cell_16_layer_call_fn, lstm_cell_16_layer_call_and_return_conditional_losses, lstm_cell_17_layer_call_fn, lstm_cell_17_layer_call_and_return_conditional_losses while saving (showing 4 of 4). These functions will not be directly callable after loading.\n"
          ]
        },
        {
          "output_type": "stream",
          "name": "stdout",
          "text": [
            "\b\b\b\b\b\b\b\b\b\b\b\b\b\b\b\b\b\b\b\b\b\b\b\b\b\b\b\b\b\b\b\b\b\b\b\b\b\b\b\b\b\b\b\b\b\b\b\b\b\b\b\b\b\b\b\b\b\b\b\b\b\b\b\b\b\r150/150 [==============================] - 15s 99ms/step - loss: 2.9041 - val_loss: 4.9849\n",
            "Epoch 17/100\n",
            "146/150 [============================>.] - ETA: 0s - loss: 2.6453\n",
            "Epoch 17: val_loss improved from 4.98490 to 4.92923, saving model to model.h1.24_jan_19\n"
          ]
        },
        {
          "output_type": "stream",
          "name": "stderr",
          "text": [
            "WARNING:absl:Found untraced functions such as lstm_cell_16_layer_call_fn, lstm_cell_16_layer_call_and_return_conditional_losses, lstm_cell_17_layer_call_fn, lstm_cell_17_layer_call_and_return_conditional_losses while saving (showing 4 of 4). These functions will not be directly callable after loading.\n"
          ]
        },
        {
          "output_type": "stream",
          "name": "stdout",
          "text": [
            "\b\b\b\b\b\b\b\b\b\b\b\b\b\b\b\b\b\b\b\b\b\b\b\b\b\b\b\b\b\b\b\b\b\b\b\b\b\b\b\b\b\b\b\b\b\b\b\b\b\b\b\b\b\b\b\b\b\b\b\b\b\b\b\b\b\r150/150 [==============================] - 15s 99ms/step - loss: 2.6513 - val_loss: 4.9292\n",
            "Epoch 18/100\n",
            "146/150 [============================>.] - ETA: 0s - loss: 2.4158\n",
            "Epoch 18: val_loss improved from 4.92923 to 4.74909, saving model to model.h1.24_jan_19\n"
          ]
        },
        {
          "output_type": "stream",
          "name": "stderr",
          "text": [
            "WARNING:absl:Found untraced functions such as lstm_cell_16_layer_call_fn, lstm_cell_16_layer_call_and_return_conditional_losses, lstm_cell_17_layer_call_fn, lstm_cell_17_layer_call_and_return_conditional_losses while saving (showing 4 of 4). These functions will not be directly callable after loading.\n"
          ]
        },
        {
          "output_type": "stream",
          "name": "stdout",
          "text": [
            "\b\b\b\b\b\b\b\b\b\b\b\b\b\b\b\b\b\b\b\b\b\b\b\b\b\b\b\b\b\b\b\b\b\b\b\b\b\b\b\b\b\b\b\b\b\b\b\b\b\b\b\b\b\b\b\b\b\b\b\b\b\b\b\b\b\r150/150 [==============================] - 14s 94ms/step - loss: 2.4222 - val_loss: 4.7491\n",
            "Epoch 19/100\n",
            "146/150 [============================>.] - ETA: 0s - loss: 2.2103\n",
            "Epoch 19: val_loss improved from 4.74909 to 4.62553, saving model to model.h1.24_jan_19\n"
          ]
        },
        {
          "output_type": "stream",
          "name": "stderr",
          "text": [
            "WARNING:absl:Found untraced functions such as lstm_cell_16_layer_call_fn, lstm_cell_16_layer_call_and_return_conditional_losses, lstm_cell_17_layer_call_fn, lstm_cell_17_layer_call_and_return_conditional_losses while saving (showing 4 of 4). These functions will not be directly callable after loading.\n"
          ]
        },
        {
          "output_type": "stream",
          "name": "stdout",
          "text": [
            "\b\b\b\b\b\b\b\b\b\b\b\b\b\b\b\b\b\b\b\b\b\b\b\b\b\b\b\b\b\b\b\b\b\b\b\b\b\b\b\b\b\b\b\b\b\b\b\b\b\b\b\b\b\b\b\b\b\b\b\b\b\b\b\b\b\r150/150 [==============================] - 15s 100ms/step - loss: 2.2155 - val_loss: 4.6255\n",
            "Epoch 20/100\n",
            "146/150 [============================>.] - ETA: 0s - loss: 2.0185\n",
            "Epoch 20: val_loss improved from 4.62553 to 4.51718, saving model to model.h1.24_jan_19\n"
          ]
        },
        {
          "output_type": "stream",
          "name": "stderr",
          "text": [
            "WARNING:absl:Found untraced functions such as lstm_cell_16_layer_call_fn, lstm_cell_16_layer_call_and_return_conditional_losses, lstm_cell_17_layer_call_fn, lstm_cell_17_layer_call_and_return_conditional_losses while saving (showing 4 of 4). These functions will not be directly callable after loading.\n"
          ]
        },
        {
          "output_type": "stream",
          "name": "stdout",
          "text": [
            "\b\b\b\b\b\b\b\b\b\b\b\b\b\b\b\b\b\b\b\b\b\b\b\b\b\b\b\b\b\b\b\b\b\b\b\b\b\b\b\b\b\b\b\b\b\b\b\b\b\b\b\b\b\b\b\b\b\b\b\b\b\b\b\b\b\r150/150 [==============================] - 15s 98ms/step - loss: 2.0251 - val_loss: 4.5172\n",
            "Epoch 21/100\n",
            "150/150 [==============================] - ETA: 0s - loss: 1.8350\n",
            "Epoch 21: val_loss improved from 4.51718 to 4.40728, saving model to model.h1.24_jan_19\n"
          ]
        },
        {
          "output_type": "stream",
          "name": "stderr",
          "text": [
            "WARNING:absl:Found untraced functions such as lstm_cell_16_layer_call_fn, lstm_cell_16_layer_call_and_return_conditional_losses, lstm_cell_17_layer_call_fn, lstm_cell_17_layer_call_and_return_conditional_losses while saving (showing 4 of 4). These functions will not be directly callable after loading.\n"
          ]
        },
        {
          "output_type": "stream",
          "name": "stdout",
          "text": [
            "\b\b\b\b\b\b\b\b\b\b\b\b\b\b\b\b\b\b\b\b\b\b\b\b\b\b\b\b\b\b\b\b\b\b\b\b\b\b\b\b\b\b\b\b\b\b\b\b\b\b\b\b\b\b\b\b\b\b\b\b\b\b\b\b\b\r150/150 [==============================] - 15s 98ms/step - loss: 1.8350 - val_loss: 4.4073\n",
            "Epoch 22/100\n",
            "146/150 [============================>.] - ETA: 0s - loss: 1.6505\n",
            "Epoch 22: val_loss improved from 4.40728 to 4.34027, saving model to model.h1.24_jan_19\n"
          ]
        },
        {
          "output_type": "stream",
          "name": "stderr",
          "text": [
            "WARNING:absl:Found untraced functions such as lstm_cell_16_layer_call_fn, lstm_cell_16_layer_call_and_return_conditional_losses, lstm_cell_17_layer_call_fn, lstm_cell_17_layer_call_and_return_conditional_losses while saving (showing 4 of 4). These functions will not be directly callable after loading.\n"
          ]
        },
        {
          "output_type": "stream",
          "name": "stdout",
          "text": [
            "\b\b\b\b\b\b\b\b\b\b\b\b\b\b\b\b\b\b\b\b\b\b\b\b\b\b\b\b\b\b\b\b\b\b\b\b\b\b\b\b\b\b\b\b\b\b\b\b\b\b\b\b\b\b\b\b\b\b\b\b\b\b\b\b\b\r150/150 [==============================] - 15s 98ms/step - loss: 1.6548 - val_loss: 4.3403\n",
            "Epoch 23/100\n",
            "146/150 [============================>.] - ETA: 0s - loss: 1.4881\n",
            "Epoch 23: val_loss improved from 4.34027 to 4.17738, saving model to model.h1.24_jan_19\n"
          ]
        },
        {
          "output_type": "stream",
          "name": "stderr",
          "text": [
            "WARNING:absl:Found untraced functions such as lstm_cell_16_layer_call_fn, lstm_cell_16_layer_call_and_return_conditional_losses, lstm_cell_17_layer_call_fn, lstm_cell_17_layer_call_and_return_conditional_losses while saving (showing 4 of 4). These functions will not be directly callable after loading.\n"
          ]
        },
        {
          "output_type": "stream",
          "name": "stdout",
          "text": [
            "\b\b\b\b\b\b\b\b\b\b\b\b\b\b\b\b\b\b\b\b\b\b\b\b\b\b\b\b\b\b\b\b\b\b\b\b\b\b\b\b\b\b\b\b\b\b\b\b\b\b\b\b\b\b\b\b\b\b\b\b\b\b\b\b\b\r150/150 [==============================] - 15s 98ms/step - loss: 1.4910 - val_loss: 4.1774\n",
            "Epoch 24/100\n",
            "146/150 [============================>.] - ETA: 0s - loss: 1.3366\n",
            "Epoch 24: val_loss improved from 4.17738 to 4.06560, saving model to model.h1.24_jan_19\n"
          ]
        },
        {
          "output_type": "stream",
          "name": "stderr",
          "text": [
            "WARNING:absl:Found untraced functions such as lstm_cell_16_layer_call_fn, lstm_cell_16_layer_call_and_return_conditional_losses, lstm_cell_17_layer_call_fn, lstm_cell_17_layer_call_and_return_conditional_losses while saving (showing 4 of 4). These functions will not be directly callable after loading.\n"
          ]
        },
        {
          "output_type": "stream",
          "name": "stdout",
          "text": [
            "\b\b\b\b\b\b\b\b\b\b\b\b\b\b\b\b\b\b\b\b\b\b\b\b\b\b\b\b\b\b\b\b\b\b\b\b\b\b\b\b\b\b\b\b\b\b\b\b\b\b\b\b\b\b\b\b\b\b\b\b\b\b\b\b\b\r150/150 [==============================] - 15s 99ms/step - loss: 1.3406 - val_loss: 4.0656\n",
            "Epoch 25/100\n",
            "146/150 [============================>.] - ETA: 0s - loss: 1.2178\n",
            "Epoch 25: val_loss improved from 4.06560 to 3.99507, saving model to model.h1.24_jan_19\n"
          ]
        },
        {
          "output_type": "stream",
          "name": "stderr",
          "text": [
            "WARNING:absl:Found untraced functions such as lstm_cell_16_layer_call_fn, lstm_cell_16_layer_call_and_return_conditional_losses, lstm_cell_17_layer_call_fn, lstm_cell_17_layer_call_and_return_conditional_losses while saving (showing 4 of 4). These functions will not be directly callable after loading.\n"
          ]
        },
        {
          "output_type": "stream",
          "name": "stdout",
          "text": [
            "\b\b\b\b\b\b\b\b\b\b\b\b\b\b\b\b\b\b\b\b\b\b\b\b\b\b\b\b\b\b\b\b\b\b\b\b\b\b\b\b\b\b\b\b\b\b\b\b\b\b\b\b\b\b\b\b\b\b\b\b\b\b\b\b\b\r150/150 [==============================] - 15s 99ms/step - loss: 1.2220 - val_loss: 3.9951\n",
            "Epoch 26/100\n",
            "146/150 [============================>.] - ETA: 0s - loss: 1.1064\n",
            "Epoch 26: val_loss improved from 3.99507 to 3.89673, saving model to model.h1.24_jan_19\n"
          ]
        },
        {
          "output_type": "stream",
          "name": "stderr",
          "text": [
            "WARNING:absl:Found untraced functions such as lstm_cell_16_layer_call_fn, lstm_cell_16_layer_call_and_return_conditional_losses, lstm_cell_17_layer_call_fn, lstm_cell_17_layer_call_and_return_conditional_losses while saving (showing 4 of 4). These functions will not be directly callable after loading.\n"
          ]
        },
        {
          "output_type": "stream",
          "name": "stdout",
          "text": [
            "\b\b\b\b\b\b\b\b\b\b\b\b\b\b\b\b\b\b\b\b\b\b\b\b\b\b\b\b\b\b\b\b\b\b\b\b\b\b\b\b\b\b\b\b\b\b\b\b\b\b\b\b\b\b\b\b\b\b\b\b\b\b\b\b\b\r150/150 [==============================] - 15s 99ms/step - loss: 1.1110 - val_loss: 3.8967\n",
            "Epoch 27/100\n",
            "149/150 [============================>.] - ETA: 0s - loss: 0.9946\n",
            "Epoch 27: val_loss improved from 3.89673 to 3.83668, saving model to model.h1.24_jan_19\n"
          ]
        },
        {
          "output_type": "stream",
          "name": "stderr",
          "text": [
            "WARNING:absl:Found untraced functions such as lstm_cell_16_layer_call_fn, lstm_cell_16_layer_call_and_return_conditional_losses, lstm_cell_17_layer_call_fn, lstm_cell_17_layer_call_and_return_conditional_losses while saving (showing 4 of 4). These functions will not be directly callable after loading.\n"
          ]
        },
        {
          "output_type": "stream",
          "name": "stdout",
          "text": [
            "\b\b\b\b\b\b\b\b\b\b\b\b\b\b\b\b\b\b\b\b\b\b\b\b\b\b\b\b\b\b\b\b\b\b\b\b\b\b\b\b\b\b\b\b\b\b\b\b\b\b\b\b\b\b\b\b\b\b\b\b\b\b\b\b\b\r150/150 [==============================] - 15s 100ms/step - loss: 0.9954 - val_loss: 3.8367\n",
            "Epoch 28/100\n",
            "146/150 [============================>.] - ETA: 0s - loss: 0.8839\n",
            "Epoch 28: val_loss improved from 3.83668 to 3.77134, saving model to model.h1.24_jan_19\n"
          ]
        },
        {
          "output_type": "stream",
          "name": "stderr",
          "text": [
            "WARNING:absl:Found untraced functions such as lstm_cell_16_layer_call_fn, lstm_cell_16_layer_call_and_return_conditional_losses, lstm_cell_17_layer_call_fn, lstm_cell_17_layer_call_and_return_conditional_losses while saving (showing 4 of 4). These functions will not be directly callable after loading.\n"
          ]
        },
        {
          "output_type": "stream",
          "name": "stdout",
          "text": [
            "\b\b\b\b\b\b\b\b\b\b\b\b\b\b\b\b\b\b\b\b\b\b\b\b\b\b\b\b\b\b\b\b\b\b\b\b\b\b\b\b\b\b\b\b\b\b\b\b\b\b\b\b\b\b\b\b\b\b\b\b\b\b\b\b\b\r150/150 [==============================] - 14s 93ms/step - loss: 0.8884 - val_loss: 3.7713\n",
            "Epoch 29/100\n",
            "150/150 [==============================] - ETA: 0s - loss: 0.8009\n",
            "Epoch 29: val_loss improved from 3.77134 to 3.65387, saving model to model.h1.24_jan_19\n"
          ]
        },
        {
          "output_type": "stream",
          "name": "stderr",
          "text": [
            "WARNING:absl:Found untraced functions such as lstm_cell_16_layer_call_fn, lstm_cell_16_layer_call_and_return_conditional_losses, lstm_cell_17_layer_call_fn, lstm_cell_17_layer_call_and_return_conditional_losses while saving (showing 4 of 4). These functions will not be directly callable after loading.\n"
          ]
        },
        {
          "output_type": "stream",
          "name": "stdout",
          "text": [
            "\b\b\b\b\b\b\b\b\b\b\b\b\b\b\b\b\b\b\b\b\b\b\b\b\b\b\b\b\b\b\b\b\b\b\b\b\b\b\b\b\b\b\b\b\b\b\b\b\b\b\b\b\b\b\b\b\b\b\b\b\b\b\b\b\b\r150/150 [==============================] - 15s 101ms/step - loss: 0.8009 - val_loss: 3.6539\n",
            "Epoch 30/100\n",
            "146/150 [============================>.] - ETA: 0s - loss: 0.7159\n",
            "Epoch 30: val_loss improved from 3.65387 to 3.58854, saving model to model.h1.24_jan_19\n"
          ]
        },
        {
          "output_type": "stream",
          "name": "stderr",
          "text": [
            "WARNING:absl:Found untraced functions such as lstm_cell_16_layer_call_fn, lstm_cell_16_layer_call_and_return_conditional_losses, lstm_cell_17_layer_call_fn, lstm_cell_17_layer_call_and_return_conditional_losses while saving (showing 4 of 4). These functions will not be directly callable after loading.\n"
          ]
        },
        {
          "output_type": "stream",
          "name": "stdout",
          "text": [
            "\b\b\b\b\b\b\b\b\b\b\b\b\b\b\b\b\b\b\b\b\b\b\b\b\b\b\b\b\b\b\b\b\b\b\b\b\b\b\b\b\b\b\b\b\b\b\b\b\b\b\b\b\b\b\b\b\b\b\b\b\b\b\b\b\b\r150/150 [==============================] - 15s 98ms/step - loss: 0.7190 - val_loss: 3.5885\n",
            "Epoch 31/100\n",
            "146/150 [============================>.] - ETA: 0s - loss: 0.6339\n",
            "Epoch 31: val_loss improved from 3.58854 to 3.54007, saving model to model.h1.24_jan_19\n"
          ]
        },
        {
          "output_type": "stream",
          "name": "stderr",
          "text": [
            "WARNING:absl:Found untraced functions such as lstm_cell_16_layer_call_fn, lstm_cell_16_layer_call_and_return_conditional_losses, lstm_cell_17_layer_call_fn, lstm_cell_17_layer_call_and_return_conditional_losses while saving (showing 4 of 4). These functions will not be directly callable after loading.\n"
          ]
        },
        {
          "output_type": "stream",
          "name": "stdout",
          "text": [
            "\b\b\b\b\b\b\b\b\b\b\b\b\b\b\b\b\b\b\b\b\b\b\b\b\b\b\b\b\b\b\b\b\b\b\b\b\b\b\b\b\b\b\b\b\b\b\b\b\b\b\b\b\b\b\b\b\b\b\b\b\b\b\b\b\b\r150/150 [==============================] - 15s 98ms/step - loss: 0.6373 - val_loss: 3.5401\n",
            "Epoch 32/100\n",
            "146/150 [============================>.] - ETA: 0s - loss: 0.5681\n",
            "Epoch 32: val_loss improved from 3.54007 to 3.48332, saving model to model.h1.24_jan_19\n"
          ]
        },
        {
          "output_type": "stream",
          "name": "stderr",
          "text": [
            "WARNING:absl:Found untraced functions such as lstm_cell_16_layer_call_fn, lstm_cell_16_layer_call_and_return_conditional_losses, lstm_cell_17_layer_call_fn, lstm_cell_17_layer_call_and_return_conditional_losses while saving (showing 4 of 4). These functions will not be directly callable after loading.\n"
          ]
        },
        {
          "output_type": "stream",
          "name": "stdout",
          "text": [
            "\b\b\b\b\b\b\b\b\b\b\b\b\b\b\b\b\b\b\b\b\b\b\b\b\b\b\b\b\b\b\b\b\b\b\b\b\b\b\b\b\b\b\b\b\b\b\b\b\b\b\b\b\b\b\b\b\b\b\b\b\b\b\b\b\b\r150/150 [==============================] - 15s 99ms/step - loss: 0.5700 - val_loss: 3.4833\n",
            "Epoch 33/100\n",
            "146/150 [============================>.] - ETA: 0s - loss: 0.5057\n",
            "Epoch 33: val_loss improved from 3.48332 to 3.44390, saving model to model.h1.24_jan_19\n"
          ]
        },
        {
          "output_type": "stream",
          "name": "stderr",
          "text": [
            "WARNING:absl:Found untraced functions such as lstm_cell_16_layer_call_fn, lstm_cell_16_layer_call_and_return_conditional_losses, lstm_cell_17_layer_call_fn, lstm_cell_17_layer_call_and_return_conditional_losses while saving (showing 4 of 4). These functions will not be directly callable after loading.\n"
          ]
        },
        {
          "output_type": "stream",
          "name": "stdout",
          "text": [
            "\b\b\b\b\b\b\b\b\b\b\b\b\b\b\b\b\b\b\b\b\b\b\b\b\b\b\b\b\b\b\b\b\b\b\b\b\b\b\b\b\b\b\b\b\b\b\b\b\b\b\b\b\b\b\b\b\b\b\b\b\b\b\b\b\b\r150/150 [==============================] - 15s 99ms/step - loss: 0.5071 - val_loss: 3.4439\n",
            "Epoch 34/100\n",
            "146/150 [============================>.] - ETA: 0s - loss: 0.4557\n",
            "Epoch 34: val_loss improved from 3.44390 to 3.40706, saving model to model.h1.24_jan_19\n"
          ]
        },
        {
          "output_type": "stream",
          "name": "stderr",
          "text": [
            "WARNING:absl:Found untraced functions such as lstm_cell_16_layer_call_fn, lstm_cell_16_layer_call_and_return_conditional_losses, lstm_cell_17_layer_call_fn, lstm_cell_17_layer_call_and_return_conditional_losses while saving (showing 4 of 4). These functions will not be directly callable after loading.\n"
          ]
        },
        {
          "output_type": "stream",
          "name": "stdout",
          "text": [
            "\b\b\b\b\b\b\b\b\b\b\b\b\b\b\b\b\b\b\b\b\b\b\b\b\b\b\b\b\b\b\b\b\b\b\b\b\b\b\b\b\b\b\b\b\b\b\b\b\b\b\b\b\b\b\b\b\b\b\b\b\b\b\b\b\b\r150/150 [==============================] - 15s 99ms/step - loss: 0.4577 - val_loss: 3.4071\n",
            "Epoch 35/100\n",
            "146/150 [============================>.] - ETA: 0s - loss: 0.4073\n",
            "Epoch 35: val_loss improved from 3.40706 to 3.35916, saving model to model.h1.24_jan_19\n"
          ]
        },
        {
          "output_type": "stream",
          "name": "stderr",
          "text": [
            "WARNING:absl:Found untraced functions such as lstm_cell_16_layer_call_fn, lstm_cell_16_layer_call_and_return_conditional_losses, lstm_cell_17_layer_call_fn, lstm_cell_17_layer_call_and_return_conditional_losses while saving (showing 4 of 4). These functions will not be directly callable after loading.\n"
          ]
        },
        {
          "output_type": "stream",
          "name": "stdout",
          "text": [
            "\b\b\b\b\b\b\b\b\b\b\b\b\b\b\b\b\b\b\b\b\b\b\b\b\b\b\b\b\b\b\b\b\b\b\b\b\b\b\b\b\b\b\b\b\b\b\b\b\b\b\b\b\b\b\b\b\b\b\b\b\b\b\b\b\b\r150/150 [==============================] - 14s 94ms/step - loss: 0.4100 - val_loss: 3.3592\n",
            "Epoch 36/100\n",
            "146/150 [============================>.] - ETA: 0s - loss: 0.3627\n",
            "Epoch 36: val_loss did not improve from 3.35916\n",
            "150/150 [==============================] - 2s 13ms/step - loss: 0.3661 - val_loss: 3.3642\n",
            "Epoch 37/100\n",
            "146/150 [============================>.] - ETA: 0s - loss: 0.3282\n",
            "Epoch 37: val_loss improved from 3.35916 to 3.32231, saving model to model.h1.24_jan_19\n"
          ]
        },
        {
          "output_type": "stream",
          "name": "stderr",
          "text": [
            "WARNING:absl:Found untraced functions such as lstm_cell_16_layer_call_fn, lstm_cell_16_layer_call_and_return_conditional_losses, lstm_cell_17_layer_call_fn, lstm_cell_17_layer_call_and_return_conditional_losses while saving (showing 4 of 4). These functions will not be directly callable after loading.\n"
          ]
        },
        {
          "output_type": "stream",
          "name": "stdout",
          "text": [
            "\b\b\b\b\b\b\b\b\b\b\b\b\b\b\b\b\b\b\b\b\b\b\b\b\b\b\b\b\b\b\b\b\b\b\b\b\b\b\b\b\b\b\b\b\b\b\b\b\b\b\b\b\b\b\b\b\b\b\b\b\b\b\b\b\b\r150/150 [==============================] - 15s 101ms/step - loss: 0.3300 - val_loss: 3.3223\n",
            "Epoch 38/100\n",
            "146/150 [============================>.] - ETA: 0s - loss: 0.2946\n",
            "Epoch 38: val_loss improved from 3.32231 to 3.30018, saving model to model.h1.24_jan_19\n"
          ]
        },
        {
          "output_type": "stream",
          "name": "stderr",
          "text": [
            "WARNING:absl:Found untraced functions such as lstm_cell_16_layer_call_fn, lstm_cell_16_layer_call_and_return_conditional_losses, lstm_cell_17_layer_call_fn, lstm_cell_17_layer_call_and_return_conditional_losses while saving (showing 4 of 4). These functions will not be directly callable after loading.\n"
          ]
        },
        {
          "output_type": "stream",
          "name": "stdout",
          "text": [
            "\b\b\b\b\b\b\b\b\b\b\b\b\b\b\b\b\b\b\b\b\b\b\b\b\b\b\b\b\b\b\b\b\b\b\b\b\b\b\b\b\b\b\b\b\b\b\b\b\b\b\b\b\b\b\b\b\b\b\b\b\b\b\b\b\b\r150/150 [==============================] - 15s 99ms/step - loss: 0.2965 - val_loss: 3.3002\n",
            "Epoch 39/100\n",
            "146/150 [============================>.] - ETA: 0s - loss: 0.2634\n",
            "Epoch 39: val_loss improved from 3.30018 to 3.29944, saving model to model.h1.24_jan_19\n"
          ]
        },
        {
          "output_type": "stream",
          "name": "stderr",
          "text": [
            "WARNING:absl:Found untraced functions such as lstm_cell_16_layer_call_fn, lstm_cell_16_layer_call_and_return_conditional_losses, lstm_cell_17_layer_call_fn, lstm_cell_17_layer_call_and_return_conditional_losses while saving (showing 4 of 4). These functions will not be directly callable after loading.\n"
          ]
        },
        {
          "output_type": "stream",
          "name": "stdout",
          "text": [
            "\b\b\b\b\b\b\b\b\b\b\b\b\b\b\b\b\b\b\b\b\b\b\b\b\b\b\b\b\b\b\b\b\b\b\b\b\b\b\b\b\b\b\b\b\b\b\b\b\b\b\b\b\b\b\b\b\b\b\b\b\b\b\b\b\b\r150/150 [==============================] - 15s 98ms/step - loss: 0.2656 - val_loss: 3.2994\n",
            "Epoch 40/100\n",
            "146/150 [============================>.] - ETA: 0s - loss: 0.2341\n",
            "Epoch 40: val_loss improved from 3.29944 to 3.26503, saving model to model.h1.24_jan_19\n"
          ]
        },
        {
          "output_type": "stream",
          "name": "stderr",
          "text": [
            "WARNING:absl:Found untraced functions such as lstm_cell_16_layer_call_fn, lstm_cell_16_layer_call_and_return_conditional_losses, lstm_cell_17_layer_call_fn, lstm_cell_17_layer_call_and_return_conditional_losses while saving (showing 4 of 4). These functions will not be directly callable after loading.\n"
          ]
        },
        {
          "output_type": "stream",
          "name": "stdout",
          "text": [
            "\b\b\b\b\b\b\b\b\b\b\b\b\b\b\b\b\b\b\b\b\b\b\b\b\b\b\b\b\b\b\b\b\b\b\b\b\b\b\b\b\b\b\b\b\b\b\b\b\b\b\b\b\b\b\b\b\b\b\b\b\b\b\b\b\b\r150/150 [==============================] - 15s 99ms/step - loss: 0.2363 - val_loss: 3.2650\n",
            "Epoch 41/100\n",
            "146/150 [============================>.] - ETA: 0s - loss: 0.2113\n",
            "Epoch 41: val_loss improved from 3.26503 to 3.25499, saving model to model.h1.24_jan_19\n"
          ]
        },
        {
          "output_type": "stream",
          "name": "stderr",
          "text": [
            "WARNING:absl:Found untraced functions such as lstm_cell_16_layer_call_fn, lstm_cell_16_layer_call_and_return_conditional_losses, lstm_cell_17_layer_call_fn, lstm_cell_17_layer_call_and_return_conditional_losses while saving (showing 4 of 4). These functions will not be directly callable after loading.\n"
          ]
        },
        {
          "output_type": "stream",
          "name": "stdout",
          "text": [
            "\b\b\b\b\b\b\b\b\b\b\b\b\b\b\b\b\b\b\b\b\b\b\b\b\b\b\b\b\b\b\b\b\b\b\b\b\b\b\b\b\b\b\b\b\b\b\b\b\b\b\b\b\b\b\b\b\b\b\b\b\b\b\b\b\b\r150/150 [==============================] - 15s 99ms/step - loss: 0.2134 - val_loss: 3.2550\n",
            "Epoch 42/100\n",
            "146/150 [============================>.] - ETA: 0s - loss: 0.1953\n",
            "Epoch 42: val_loss improved from 3.25499 to 3.24665, saving model to model.h1.24_jan_19\n"
          ]
        },
        {
          "output_type": "stream",
          "name": "stderr",
          "text": [
            "WARNING:absl:Found untraced functions such as lstm_cell_16_layer_call_fn, lstm_cell_16_layer_call_and_return_conditional_losses, lstm_cell_17_layer_call_fn, lstm_cell_17_layer_call_and_return_conditional_losses while saving (showing 4 of 4). These functions will not be directly callable after loading.\n"
          ]
        },
        {
          "output_type": "stream",
          "name": "stdout",
          "text": [
            "\b\b\b\b\b\b\b\b\b\b\b\b\b\b\b\b\b\b\b\b\b\b\b\b\b\b\b\b\b\b\b\b\b\b\b\b\b\b\b\b\b\b\b\b\b\b\b\b\b\b\b\b\b\b\b\b\b\b\b\b\b\b\b\b\b\r150/150 [==============================] - 15s 98ms/step - loss: 0.1963 - val_loss: 3.2466\n",
            "Epoch 43/100\n",
            "146/150 [============================>.] - ETA: 0s - loss: 0.1722\n",
            "Epoch 43: val_loss improved from 3.24665 to 3.24092, saving model to model.h1.24_jan_19\n"
          ]
        },
        {
          "output_type": "stream",
          "name": "stderr",
          "text": [
            "WARNING:absl:Found untraced functions such as lstm_cell_16_layer_call_fn, lstm_cell_16_layer_call_and_return_conditional_losses, lstm_cell_17_layer_call_fn, lstm_cell_17_layer_call_and_return_conditional_losses while saving (showing 4 of 4). These functions will not be directly callable after loading.\n"
          ]
        },
        {
          "output_type": "stream",
          "name": "stdout",
          "text": [
            "\b\b\b\b\b\b\b\b\b\b\b\b\b\b\b\b\b\b\b\b\b\b\b\b\b\b\b\b\b\b\b\b\b\b\b\b\b\b\b\b\b\b\b\b\b\b\b\b\b\b\b\b\b\b\b\b\b\b\b\b\b\b\b\b\b\r150/150 [==============================] - 15s 99ms/step - loss: 0.1737 - val_loss: 3.2409\n",
            "Epoch 44/100\n",
            "146/150 [============================>.] - ETA: 0s - loss: 0.1601\n",
            "Epoch 44: val_loss improved from 3.24092 to 3.21909, saving model to model.h1.24_jan_19\n"
          ]
        },
        {
          "output_type": "stream",
          "name": "stderr",
          "text": [
            "WARNING:absl:Found untraced functions such as lstm_cell_16_layer_call_fn, lstm_cell_16_layer_call_and_return_conditional_losses, lstm_cell_17_layer_call_fn, lstm_cell_17_layer_call_and_return_conditional_losses while saving (showing 4 of 4). These functions will not be directly callable after loading.\n"
          ]
        },
        {
          "output_type": "stream",
          "name": "stdout",
          "text": [
            "\b\b\b\b\b\b\b\b\b\b\b\b\b\b\b\b\b\b\b\b\b\b\b\b\b\b\b\b\b\b\b\b\b\b\b\b\b\b\b\b\b\b\b\b\b\b\b\b\b\b\b\b\b\b\b\b\b\b\b\b\b\b\b\b\b\r150/150 [==============================] - 15s 99ms/step - loss: 0.1605 - val_loss: 3.2191\n",
            "Epoch 45/100\n",
            "146/150 [============================>.] - ETA: 0s - loss: 0.1432\n",
            "Epoch 45: val_loss did not improve from 3.21909\n",
            "150/150 [==============================] - 2s 13ms/step - loss: 0.1440 - val_loss: 3.2385\n",
            "Epoch 46/100\n",
            "146/150 [============================>.] - ETA: 0s - loss: 0.1313\n",
            "Epoch 46: val_loss did not improve from 3.21909\n",
            "150/150 [==============================] - 2s 13ms/step - loss: 0.1323 - val_loss: 3.2283\n",
            "Epoch 47/100\n",
            "146/150 [============================>.] - ETA: 0s - loss: 0.1197\n",
            "Epoch 47: val_loss improved from 3.21909 to 3.21632, saving model to model.h1.24_jan_19\n"
          ]
        },
        {
          "output_type": "stream",
          "name": "stderr",
          "text": [
            "WARNING:absl:Found untraced functions such as lstm_cell_16_layer_call_fn, lstm_cell_16_layer_call_and_return_conditional_losses, lstm_cell_17_layer_call_fn, lstm_cell_17_layer_call_and_return_conditional_losses while saving (showing 4 of 4). These functions will not be directly callable after loading.\n"
          ]
        },
        {
          "output_type": "stream",
          "name": "stdout",
          "text": [
            "\b\b\b\b\b\b\b\b\b\b\b\b\b\b\b\b\b\b\b\b\b\b\b\b\b\b\b\b\b\b\b\b\b\b\b\b\b\b\b\b\b\b\b\b\b\b\b\b\b\b\b\b\b\b\b\b\b\b\b\b\b\b\b\b\b\r150/150 [==============================] - 15s 98ms/step - loss: 0.1199 - val_loss: 3.2163\n",
            "Epoch 48/100\n",
            "146/150 [============================>.] - ETA: 0s - loss: 0.1115\n",
            "Epoch 48: val_loss did not improve from 3.21632\n",
            "150/150 [==============================] - 2s 13ms/step - loss: 0.1119 - val_loss: 3.2189\n",
            "Epoch 49/100\n",
            "150/150 [==============================] - ETA: 0s - loss: 0.1028\n",
            "Epoch 49: val_loss did not improve from 3.21632\n",
            "150/150 [==============================] - 2s 13ms/step - loss: 0.1028 - val_loss: 3.2208\n",
            "Epoch 50/100\n",
            "146/150 [============================>.] - ETA: 0s - loss: 0.0951\n",
            "Epoch 50: val_loss did not improve from 3.21632\n",
            "150/150 [==============================] - 2s 13ms/step - loss: 0.0954 - val_loss: 3.2215\n",
            "Epoch 51/100\n",
            "146/150 [============================>.] - ETA: 0s - loss: 0.0862\n",
            "Epoch 51: val_loss did not improve from 3.21632\n",
            "150/150 [==============================] - 2s 13ms/step - loss: 0.0866 - val_loss: 3.2182\n",
            "Epoch 52/100\n",
            "146/150 [============================>.] - ETA: 0s - loss: 0.0832\n",
            "Epoch 52: val_loss did not improve from 3.21632\n",
            "150/150 [==============================] - 2s 13ms/step - loss: 0.0832 - val_loss: 3.2306\n",
            "Epoch 53/100\n",
            "146/150 [============================>.] - ETA: 0s - loss: 0.0751\n",
            "Epoch 53: val_loss did not improve from 3.21632\n",
            "150/150 [==============================] - 2s 13ms/step - loss: 0.0752 - val_loss: 3.2226\n",
            "Epoch 54/100\n",
            "146/150 [============================>.] - ETA: 0s - loss: 0.0711\n",
            "Epoch 54: val_loss did not improve from 3.21632\n",
            "150/150 [==============================] - 2s 13ms/step - loss: 0.0717 - val_loss: 3.2258\n",
            "Epoch 55/100\n",
            "146/150 [============================>.] - ETA: 0s - loss: 0.0675\n",
            "Epoch 55: val_loss did not improve from 3.21632\n",
            "150/150 [==============================] - 2s 13ms/step - loss: 0.0677 - val_loss: 3.2354\n",
            "Epoch 56/100\n",
            "146/150 [============================>.] - ETA: 0s - loss: 0.0631\n",
            "Epoch 56: val_loss did not improve from 3.21632\n",
            "150/150 [==============================] - 2s 13ms/step - loss: 0.0631 - val_loss: 3.2270\n",
            "Epoch 57/100\n",
            "146/150 [============================>.] - ETA: 0s - loss: 0.0591\n",
            "Epoch 57: val_loss did not improve from 3.21632\n",
            "150/150 [==============================] - 2s 13ms/step - loss: 0.0589 - val_loss: 3.2352\n",
            "Epoch 58/100\n",
            "146/150 [============================>.] - ETA: 0s - loss: 0.0570\n",
            "Epoch 58: val_loss did not improve from 3.21632\n",
            "150/150 [==============================] - 2s 13ms/step - loss: 0.0571 - val_loss: 3.2369\n",
            "Epoch 59/100\n",
            "146/150 [============================>.] - ETA: 0s - loss: 0.0556\n",
            "Epoch 59: val_loss did not improve from 3.21632\n",
            "150/150 [==============================] - 2s 13ms/step - loss: 0.0559 - val_loss: 3.2405\n",
            "Epoch 60/100\n",
            "150/150 [==============================] - ETA: 0s - loss: 0.0507\n",
            "Epoch 60: val_loss did not improve from 3.21632\n",
            "150/150 [==============================] - 2s 13ms/step - loss: 0.0507 - val_loss: 3.2395\n",
            "Epoch 61/100\n",
            "146/150 [============================>.] - ETA: 0s - loss: 0.0490\n",
            "Epoch 61: val_loss did not improve from 3.21632\n",
            "150/150 [==============================] - 2s 13ms/step - loss: 0.0494 - val_loss: 3.2440\n",
            "Epoch 62/100\n",
            "146/150 [============================>.] - ETA: 0s - loss: 0.0483\n",
            "Epoch 62: val_loss did not improve from 3.21632\n",
            "150/150 [==============================] - 2s 13ms/step - loss: 0.0483 - val_loss: 3.2428\n",
            "Epoch 63/100\n",
            "146/150 [============================>.] - ETA: 0s - loss: 0.0461\n",
            "Epoch 63: val_loss did not improve from 3.21632\n",
            "150/150 [==============================] - 2s 13ms/step - loss: 0.0464 - val_loss: 3.2416\n",
            "Epoch 64/100\n",
            "146/150 [============================>.] - ETA: 0s - loss: 0.0443\n",
            "Epoch 64: val_loss did not improve from 3.21632\n",
            "150/150 [==============================] - 2s 13ms/step - loss: 0.0441 - val_loss: 3.2468\n",
            "Epoch 65/100\n",
            "146/150 [============================>.] - ETA: 0s - loss: 0.0411\n",
            "Epoch 65: val_loss did not improve from 3.21632\n",
            "150/150 [==============================] - 2s 13ms/step - loss: 0.0416 - val_loss: 3.2574\n",
            "Epoch 66/100\n",
            "146/150 [============================>.] - ETA: 0s - loss: 0.0403\n",
            "Epoch 66: val_loss did not improve from 3.21632\n",
            "150/150 [==============================] - 2s 13ms/step - loss: 0.0406 - val_loss: 3.2622\n",
            "Epoch 67/100\n",
            "146/150 [============================>.] - ETA: 0s - loss: 0.0394\n",
            "Epoch 67: val_loss did not improve from 3.21632\n",
            "150/150 [==============================] - 2s 13ms/step - loss: 0.0396 - val_loss: 3.2541\n",
            "Epoch 68/100\n",
            "150/150 [==============================] - ETA: 0s - loss: 0.0376\n",
            "Epoch 68: val_loss did not improve from 3.21632\n",
            "150/150 [==============================] - 2s 13ms/step - loss: 0.0376 - val_loss: 3.2683\n",
            "Epoch 69/100\n",
            "146/150 [============================>.] - ETA: 0s - loss: 0.0363\n",
            "Epoch 69: val_loss did not improve from 3.21632\n",
            "150/150 [==============================] - 2s 13ms/step - loss: 0.0363 - val_loss: 3.2782\n",
            "Epoch 70/100\n",
            "150/150 [==============================] - ETA: 0s - loss: 0.0365\n",
            "Epoch 70: val_loss did not improve from 3.21632\n",
            "150/150 [==============================] - 2s 13ms/step - loss: 0.0365 - val_loss: 3.2840\n",
            "Epoch 71/100\n",
            "146/150 [============================>.] - ETA: 0s - loss: 0.0349\n",
            "Epoch 71: val_loss did not improve from 3.21632\n",
            "150/150 [==============================] - 2s 13ms/step - loss: 0.0354 - val_loss: 3.2741\n",
            "Epoch 72/100\n",
            "146/150 [============================>.] - ETA: 0s - loss: 0.0341\n",
            "Epoch 72: val_loss did not improve from 3.21632\n",
            "150/150 [==============================] - 2s 13ms/step - loss: 0.0343 - val_loss: 3.2688\n",
            "Epoch 73/100\n",
            "146/150 [============================>.] - ETA: 0s - loss: 0.0338\n",
            "Epoch 73: val_loss did not improve from 3.21632\n",
            "150/150 [==============================] - 2s 13ms/step - loss: 0.0337 - val_loss: 3.2864\n",
            "Epoch 74/100\n",
            "146/150 [============================>.] - ETA: 0s - loss: 0.0324\n",
            "Epoch 74: val_loss did not improve from 3.21632\n",
            "150/150 [==============================] - 2s 13ms/step - loss: 0.0322 - val_loss: 3.2913\n",
            "Epoch 75/100\n",
            "146/150 [============================>.] - ETA: 0s - loss: 0.0321\n",
            "Epoch 75: val_loss did not improve from 3.21632\n",
            "150/150 [==============================] - 2s 13ms/step - loss: 0.0324 - val_loss: 3.2977\n",
            "Epoch 76/100\n",
            "146/150 [============================>.] - ETA: 0s - loss: 0.0315\n",
            "Epoch 76: val_loss did not improve from 3.21632\n",
            "150/150 [==============================] - 2s 13ms/step - loss: 0.0316 - val_loss: 3.2939\n",
            "Epoch 77/100\n",
            "146/150 [============================>.] - ETA: 0s - loss: 0.0317\n",
            "Epoch 77: val_loss did not improve from 3.21632\n",
            "150/150 [==============================] - 2s 13ms/step - loss: 0.0318 - val_loss: 3.3011\n",
            "Epoch 78/100\n",
            "146/150 [============================>.] - ETA: 0s - loss: 0.0298\n",
            "Epoch 78: val_loss did not improve from 3.21632\n",
            "150/150 [==============================] - 2s 13ms/step - loss: 0.0298 - val_loss: 3.3046\n",
            "Epoch 79/100\n",
            "146/150 [============================>.] - ETA: 0s - loss: 0.0285\n",
            "Epoch 79: val_loss did not improve from 3.21632\n",
            "150/150 [==============================] - 2s 13ms/step - loss: 0.0291 - val_loss: 3.3069\n",
            "Epoch 80/100\n",
            "146/150 [============================>.] - ETA: 0s - loss: 0.0284\n",
            "Epoch 80: val_loss did not improve from 3.21632\n",
            "150/150 [==============================] - 2s 13ms/step - loss: 0.0288 - val_loss: 3.2959\n",
            "Epoch 81/100\n",
            "146/150 [============================>.] - ETA: 0s - loss: 0.0276\n",
            "Epoch 81: val_loss did not improve from 3.21632\n",
            "150/150 [==============================] - 2s 13ms/step - loss: 0.0278 - val_loss: 3.3118\n",
            "Epoch 82/100\n",
            "146/150 [============================>.] - ETA: 0s - loss: 0.0276\n",
            "Epoch 82: val_loss did not improve from 3.21632\n",
            "150/150 [==============================] - 2s 13ms/step - loss: 0.0277 - val_loss: 3.3229\n",
            "Epoch 83/100\n",
            "146/150 [============================>.] - ETA: 0s - loss: 0.0262\n",
            "Epoch 83: val_loss did not improve from 3.21632\n",
            "150/150 [==============================] - 2s 13ms/step - loss: 0.0263 - val_loss: 3.3288\n",
            "Epoch 84/100\n",
            "146/150 [============================>.] - ETA: 0s - loss: 0.0275\n",
            "Epoch 84: val_loss did not improve from 3.21632\n",
            "150/150 [==============================] - 2s 13ms/step - loss: 0.0272 - val_loss: 3.3189\n",
            "Epoch 85/100\n",
            "146/150 [============================>.] - ETA: 0s - loss: 0.0261\n",
            "Epoch 85: val_loss did not improve from 3.21632\n",
            "150/150 [==============================] - 2s 13ms/step - loss: 0.0258 - val_loss: 3.3277\n",
            "Epoch 86/100\n",
            "150/150 [==============================] - ETA: 0s - loss: 0.0266\n",
            "Epoch 86: val_loss did not improve from 3.21632\n",
            "150/150 [==============================] - 2s 13ms/step - loss: 0.0266 - val_loss: 3.3154\n",
            "Epoch 87/100\n",
            "146/150 [============================>.] - ETA: 0s - loss: 0.0255\n",
            "Epoch 87: val_loss did not improve from 3.21632\n",
            "150/150 [==============================] - 2s 13ms/step - loss: 0.0256 - val_loss: 3.3418\n",
            "Epoch 88/100\n",
            "150/150 [==============================] - ETA: 0s - loss: 0.0244\n",
            "Epoch 88: val_loss did not improve from 3.21632\n",
            "150/150 [==============================] - 2s 13ms/step - loss: 0.0244 - val_loss: 3.3292\n",
            "Epoch 89/100\n",
            "146/150 [============================>.] - ETA: 0s - loss: 0.0250\n",
            "Epoch 89: val_loss did not improve from 3.21632\n",
            "150/150 [==============================] - 2s 13ms/step - loss: 0.0249 - val_loss: 3.3566\n",
            "Epoch 90/100\n",
            "146/150 [============================>.] - ETA: 0s - loss: 0.0242\n",
            "Epoch 90: val_loss did not improve from 3.21632\n",
            "150/150 [==============================] - 2s 13ms/step - loss: 0.0246 - val_loss: 3.3534\n",
            "Epoch 91/100\n",
            "146/150 [============================>.] - ETA: 0s - loss: 0.0236\n",
            "Epoch 91: val_loss did not improve from 3.21632\n",
            "150/150 [==============================] - 2s 13ms/step - loss: 0.0238 - val_loss: 3.3514\n",
            "Epoch 92/100\n",
            "146/150 [============================>.] - ETA: 0s - loss: 0.0236\n",
            "Epoch 92: val_loss did not improve from 3.21632\n",
            "150/150 [==============================] - 2s 13ms/step - loss: 0.0239 - val_loss: 3.3680\n",
            "Epoch 93/100\n",
            "146/150 [============================>.] - ETA: 0s - loss: 0.0230\n",
            "Epoch 93: val_loss did not improve from 3.21632\n",
            "150/150 [==============================] - 2s 13ms/step - loss: 0.0231 - val_loss: 3.3705\n",
            "Epoch 94/100\n",
            "146/150 [============================>.] - ETA: 0s - loss: 0.0242\n",
            "Epoch 94: val_loss did not improve from 3.21632\n",
            "150/150 [==============================] - 2s 13ms/step - loss: 0.0239 - val_loss: 3.3621\n",
            "Epoch 95/100\n",
            "146/150 [============================>.] - ETA: 0s - loss: 0.0225\n",
            "Epoch 95: val_loss did not improve from 3.21632\n",
            "150/150 [==============================] - 2s 13ms/step - loss: 0.0225 - val_loss: 3.3662\n",
            "Epoch 96/100\n",
            "146/150 [============================>.] - ETA: 0s - loss: 0.0234\n",
            "Epoch 96: val_loss did not improve from 3.21632\n",
            "150/150 [==============================] - 2s 13ms/step - loss: 0.0236 - val_loss: 3.3731\n",
            "Epoch 97/100\n",
            "146/150 [============================>.] - ETA: 0s - loss: 0.0219\n",
            "Epoch 97: val_loss did not improve from 3.21632\n",
            "150/150 [==============================] - 2s 13ms/step - loss: 0.0221 - val_loss: 3.3809\n",
            "Epoch 98/100\n",
            "146/150 [============================>.] - ETA: 0s - loss: 0.0223\n",
            "Epoch 98: val_loss did not improve from 3.21632\n",
            "150/150 [==============================] - 2s 13ms/step - loss: 0.0221 - val_loss: 3.3712\n",
            "Epoch 99/100\n",
            "146/150 [============================>.] - ETA: 0s - loss: 0.0217\n",
            "Epoch 99: val_loss did not improve from 3.21632\n",
            "150/150 [==============================] - 2s 13ms/step - loss: 0.0217 - val_loss: 3.3735\n",
            "Epoch 100/100\n",
            "146/150 [============================>.] - ETA: 0s - loss: 0.0220\n",
            "Epoch 100: val_loss did not improve from 3.21632\n",
            "150/150 [==============================] - 2s 13ms/step - loss: 0.0219 - val_loss: 3.3961\n"
          ]
        }
      ]
    },
    {
      "cell_type": "code",
      "source": [
        "import numpy as np\n",
        "model = load_model('model.h1.24_jan_19')\n",
        "preds = model.predict(testX.reshape((testX.shape[0],testX.shape[1])))\n",
        "pred_classes = np.argmax(preds, axis=1)"
      ],
      "metadata": {
        "id": "mnuMUagnx4Y9",
        "colab": {
          "base_uri": "https://localhost:8080/"
        },
        "outputId": "56d98882-5d3b-4798-acc9-f7caca7eba6a"
      },
      "execution_count": 135,
      "outputs": [
        {
          "output_type": "stream",
          "name": "stdout",
          "text": [
            "188/188 [==============================] - 2s 3ms/step\n"
          ]
        }
      ]
    },
    {
      "cell_type": "code",
      "source": [
        "plt.plot(history.history['loss'])\n",
        "plt.plot(history.history['val_loss'])\n",
        "plt.legend(['train','validation'])\n",
        "plt.show()"
      ],
      "metadata": {
        "id": "cHlzeNSNcLML",
        "colab": {
          "base_uri": "https://localhost:8080/",
          "height": 265
        },
        "outputId": "0063dff4-bb29-4ed3-dc0f-0adcb1585ddd"
      },
      "execution_count": 136,
      "outputs": [
        {
          "output_type": "display_data",
          "data": {
            "text/plain": [
              "<Figure size 432x288 with 1 Axes>"
            ],
            "image/png": "[encoded data removed]"
          },
          "metadata": {
            "needs_background": "light"
          }
        }
      ]
    },
    {
      "cell_type": "code",
      "source": [
        "def get_word(n, tokenizer):\n",
        "    index = n.argmax()\n",
        "    for word, i in tokenizer.word_index.items():\n",
        "        if i == index:\n",
        "            return word\n",
        "    return None"
      ],
      "metadata": {
        "id": "qlyaxzdndnsj"
      },
      "execution_count": 137,
      "outputs": []
    },
    {
      "cell_type": "code",
      "source": [
        "preds_text = []\n",
        "for i in preds:\n",
        "    temp = []\n",
        "    for j in range(len(i)):\n",
        "        t = get_word(i[j], turkish_tokenizer)\n",
        "        if j > 0:\n",
        "            if (t == get_word(i[j-1], turkish_tokenizer)) or (t == None):\n",
        "                temp.append('')\n",
        "            else:\n",
        "                temp.append(t)\n",
        "        else:\n",
        "            if(t == None):\n",
        "                temp.append('')\n",
        "            else:\n",
        "                temp.append(t) \n",
        "\n",
        "    preds_text.append(' '.join(temp))"
      ],
      "metadata": {
        "id": "52cmvetNdpZb"
      },
      "execution_count": 138,
      "outputs": []
    },
    {
      "cell_type": "code",
      "source": [
        "pred_df = pd.DataFrame({'actual' : test[:,0], 'predicted' : preds_text})"
      ],
      "metadata": {
        "id": "TO6hRW5qz5I5"
      },
      "execution_count": 139,
      "outputs": []
    },
    {
      "cell_type": "code",
      "source": [
        "pred_df.head(20)"
      ],
      "metadata": {
        "id": "dqBCU75uyB80",
        "colab": {
          "base_uri": "https://localhost:8080/",
          "height": 825
        },
        "outputId": "4a8dd9e5-99e2-42b3-c459-459d5670670a"
      },
      "execution_count": 140,
      "outputs": [
        {
          "output_type": "execute_result",
          "data": {
            "text/plain": [
              "                                                                                                                                                                                                     actual  \\\n",
              "0                                                                                                                                 bu üç tür kararin gerekçeleri vermiş olduğum açiklamalar arasinda vardir    \n",
              "1                                                                                                                                     bu inanca aykiri  görüş ve düşünceleri açiğa vuracaklarin vay haline    \n",
              "2                                                                                                                                                               görüyordum  iki üç bin mil açiktan bakarak    \n",
              "3                                                                                                                                                                                        hayir  kendin bak    \n",
              "4                                                                                                                                                              kuzum  eşek nali yapsan  bir usta çingenenin   \n",
              "5                                                                                                                                                                    cetelerimizden bir kismi yok ediliyor    \n",
              "6                                                                                                                                          cünkü sorun gerçekten önemli ve ölüm kalim sorunu niteliğindeydi   \n",
              "7                                                                                                                                                                                                       649   \n",
              "8                                                                                                                 ben  bu ödevin yapilmasinin bir görev ve yetki sahibi olmaya bağli olduğunu ileri sürdüm    \n",
              "9                                                                                                                                                           bana  bu söylediğim şeyleri tümüyle kabullendi    \n",
              "10                                                                                                                                                          adirncla bir  dikilir  azminin  gelir  önüne      \n",
              "11                                                                                                  efendiler  mecliste yenilgiye uğrayanlarin  gazeteci arkadaşlari  bu sonucu  elbette  hiç beğenmediler    \n",
              "12                                                                                                                                                                 kimin uğruna ölmüş  desin de inleniesin    \n",
              "13                                                                                                             kendilerine söylediğim sözleri olduğu gibi meclise söylemekte sakinca görmediğimi bildirdim    \n",
              "14                                                                              malatyada bulunan on ikinci atli alay komutanini da 78 eylul gecesi  ben kendim telgraf başina çağirmiş ve görüşmekte idim    \n",
              "15                                                                                                                                                                 canini feda edeceksin can düşmanin için    \n",
              "16  rauf bey   millet  kaderini kendisinden başka bir kimseye birakmayi kendisi için alçaklik saydi  dedikten sonra milletin  ulusal egemenliği kayitsiz şartsiz olarak yürüten büyük millet meclisini k...   \n",
              "17                                                                                                   ikinci madde içeriğine gelince  bu konu düşünülmeye değer ve türlü yönlerde tartişilmaya elverişlidir    \n",
              "18                                                                                                                                                                asil şaşilacak şey  bundan sonra görüldü    \n",
              "19  diş durum istanbulda şöyle görünüyor  fransa  italya  ingiltere  türkiyede mandaterlik işini amerika senatosuna resmi olarak önermiş olmakla birlikte bütün güçlerini senatonun kabul etmemesi için ...   \n",
              "\n",
              "                                                               predicted  \n",
              "0     tür kararin gerekçeleri vermiş olduğum açiklamalar arasinda vardir  \n",
              "1              aykiri görüş ve düşünceleri açiğa vuracaklarin vay haline  \n",
              "2                                 üç   ayni üç girmelerinin son damlanin  \n",
              "3                                                  hayir kendin bak       \n",
              "4                                kuzum eşek nali yapsan bir çingenenin    \n",
              "5                                             bir şeyi içinde istemiş     \n",
              "6                        cünkü bunlar ortadan güven elverişli olabilir    \n",
              "7                                                                         \n",
              "8                                  ve  tam içinde  olmasi zorunlu verdik  \n",
              "9                        bana bu söylediğim şeyleri tümüyle kabullendi    \n",
              "10                                             bir üyesi ancak yüz kan    \n",
              "11  uğrayanlarin gazeteci arkadaşlari bu sonucu elbette hiç beğenmediler  \n",
              "12                              kimin uğruna ölmüş desin de inleniesin    \n",
              "13          milli iyi cumhuriyet yapilmasi vermek güçleri olduğu söyledi  \n",
              "14          adapazari kaymakami bey tarafindan görevi ve sinirli anladim  \n",
              "15                             canini feda edeceksin can düşmanin için    \n",
              "16                    iyi ve doğru bir yönetim yöntemi olduğunu söylüyor  \n",
              "17    konu düşünülmeye değer ve türlü yönlerde tartişilmaya elverişlidir  \n",
              "18                                       orada güçlere böyle de böyle     \n",
              "19    birlikte bütün güçlerini senatonun kabul etmemesi için harciyorlar  "
            ],
            "text/html": [
              "\n",
              "  <div id=\"df-dc24fe13-c84e-4936-9a28-b17cdce60f8d\">\n",
              "    <div class=\"colab-df-container\">\n",
              "      <div>\n",
              "<style scoped>\n",
              "    .dataframe tbody tr th:only-of-type {\n",
              "        vertical-align: middle;\n",
              "    }\n",
              "\n",
              "    .dataframe tbody tr th {\n",
              "        vertical-align: top;\n",
              "    }\n",
              "\n",
              "    .dataframe thead th {\n",
              "        text-align: right;\n",
              "    }\n",
              "</style>\n",
              "<table border=\"1\" class=\"dataframe\">\n",
              "  <thead>\n",
              "    <tr style=\"text-align: right;\">\n",
              "      <th></th>\n",
              "      <th>actual</th>\n",
              "      <th>predicted</th>\n",
              "    </tr>\n",
              "  </thead>\n",
              "  <tbody>\n",
              "    <tr>\n",
              "      <th>0</th>\n",
              "      <td>bu üç tür kararin gerekçeleri vermiş olduğum açiklamalar arasinda vardir</td>\n",
              "      <td>tür kararin gerekçeleri vermiş olduğum açiklamalar arasinda vardir</td>\n",
              "    </tr>\n",
              "    <tr>\n",
              "      <th>1</th>\n",
              "      <td>bu inanca aykiri  görüş ve düşünceleri açiğa vuracaklarin vay haline</td>\n",
              "      <td>aykiri görüş ve düşünceleri açiğa vuracaklarin vay haline</td>\n",
              "    </tr>\n",
              "    <tr>\n",
              "      <th>2</th>\n",
              "      <td>görüyordum  iki üç bin mil açiktan bakarak</td>\n",
              "      <td>üç   ayni üç girmelerinin son damlanin</td>\n",
              "    </tr>\n",
              "    <tr>\n",
              "      <th>3</th>\n",
              "      <td>hayir  kendin bak</td>\n",
              "      <td>hayir kendin bak</td>\n",
              "    </tr>\n",
              "    <tr>\n",
              "      <th>4</th>\n",
              "      <td>kuzum  eşek nali yapsan  bir usta çingenenin</td>\n",
              "      <td>kuzum eşek nali yapsan bir çingenenin</td>\n",
              "    </tr>\n",
              "    <tr>\n",
              "      <th>5</th>\n",
              "      <td>cetelerimizden bir kismi yok ediliyor</td>\n",
              "      <td>bir şeyi içinde istemiş</td>\n",
              "    </tr>\n",
              "    <tr>\n",
              "      <th>6</th>\n",
              "      <td>cünkü sorun gerçekten önemli ve ölüm kalim sorunu niteliğindeydi</td>\n",
              "      <td>cünkü bunlar ortadan güven elverişli olabilir</td>\n",
              "    </tr>\n",
              "    <tr>\n",
              "      <th>7</th>\n",
              "      <td>649</td>\n",
              "      <td></td>\n",
              "    </tr>\n",
              "    <tr>\n",
              "      <th>8</th>\n",
              "      <td>ben  bu ödevin yapilmasinin bir görev ve yetki sahibi olmaya bağli olduğunu ileri sürdüm</td>\n",
              "      <td>ve  tam içinde  olmasi zorunlu verdik</td>\n",
              "    </tr>\n",
              "    <tr>\n",
              "      <th>9</th>\n",
              "      <td>bana  bu söylediğim şeyleri tümüyle kabullendi</td>\n",
              "      <td>bana bu söylediğim şeyleri tümüyle kabullendi</td>\n",
              "    </tr>\n",
              "    <tr>\n",
              "      <th>10</th>\n",
              "      <td>adirncla bir  dikilir  azminin  gelir  önüne</td>\n",
              "      <td>bir üyesi ancak yüz kan</td>\n",
              "    </tr>\n",
              "    <tr>\n",
              "      <th>11</th>\n",
              "      <td>efendiler  mecliste yenilgiye uğrayanlarin  gazeteci arkadaşlari  bu sonucu  elbette  hiç beğenmediler</td>\n",
              "      <td>uğrayanlarin gazeteci arkadaşlari bu sonucu elbette hiç beğenmediler</td>\n",
              "    </tr>\n",
              "    <tr>\n",
              "      <th>12</th>\n",
              "      <td>kimin uğruna ölmüş  desin de inleniesin</td>\n",
              "      <td>kimin uğruna ölmüş desin de inleniesin</td>\n",
              "    </tr>\n",
              "    <tr>\n",
              "      <th>13</th>\n",
              "      <td>kendilerine söylediğim sözleri olduğu gibi meclise söylemekte sakinca görmediğimi bildirdim</td>\n",
              "      <td>milli iyi cumhuriyet yapilmasi vermek güçleri olduğu söyledi</td>\n",
              "    </tr>\n",
              "    <tr>\n",
              "      <th>14</th>\n",
              "      <td>malatyada bulunan on ikinci atli alay komutanini da 78 eylul gecesi  ben kendim telgraf başina çağirmiş ve görüşmekte idim</td>\n",
              "      <td>adapazari kaymakami bey tarafindan görevi ve sinirli anladim</td>\n",
              "    </tr>\n",
              "    <tr>\n",
              "      <th>15</th>\n",
              "      <td>canini feda edeceksin can düşmanin için</td>\n",
              "      <td>canini feda edeceksin can düşmanin için</td>\n",
              "    </tr>\n",
              "    <tr>\n",
              "      <th>16</th>\n",
              "      <td>rauf bey   millet  kaderini kendisinden başka bir kimseye birakmayi kendisi için alçaklik saydi  dedikten sonra milletin  ulusal egemenliği kayitsiz şartsiz olarak yürüten büyük millet meclisini k...</td>\n",
              "      <td>iyi ve doğru bir yönetim yöntemi olduğunu söylüyor</td>\n",
              "    </tr>\n",
              "    <tr>\n",
              "      <th>17</th>\n",
              "      <td>ikinci madde içeriğine gelince  bu konu düşünülmeye değer ve türlü yönlerde tartişilmaya elverişlidir</td>\n",
              "      <td>konu düşünülmeye değer ve türlü yönlerde tartişilmaya elverişlidir</td>\n",
              "    </tr>\n",
              "    <tr>\n",
              "      <th>18</th>\n",
              "      <td>asil şaşilacak şey  bundan sonra görüldü</td>\n",
              "      <td>orada güçlere böyle de böyle</td>\n",
              "    </tr>\n",
              "    <tr>\n",
              "      <th>19</th>\n",
              "      <td>diş durum istanbulda şöyle görünüyor  fransa  italya  ingiltere  türkiyede mandaterlik işini amerika senatosuna resmi olarak önermiş olmakla birlikte bütün güçlerini senatonun kabul etmemesi için ...</td>\n",
              "      <td>birlikte bütün güçlerini senatonun kabul etmemesi için harciyorlar</td>\n",
              "    </tr>\n",
              "  </tbody>\n",
              "</table>\n",
              "</div>\n",
              "      <button class=\"colab-df-convert\" onclick=\"convertToInteractive('df-dc24fe13-c84e-4936-9a28-b17cdce60f8d')\"\n",
              "              title=\"Convert this dataframe to an interactive table.\"\n",
              "              style=\"display:none;\">\n",
              "        \n",
              "  <svg xmlns=\"http://www.w3.org/2000/svg\" height=\"24px\"viewBox=\"0 0 24 24\"\n",
              "       width=\"24px\">\n",
              "    <path d=\"M0 0h24v24H0V0z\" fill=\"none\"/>\n",
              "    <path d=\"M18.56 5.44l.94 2.06.94-2.06 2.06-.94-2.06-.94-.94-2.06-.94 2.06-2.06.94zm-11 1L8.5 8.5l.94-2.06 2.06-.94-2.06-.94L8.5 2.5l-.94 2.06-2.06.94zm10 10l.94 2.06.94-2.06 2.06-.94-2.06-.94-.94-2.06-.94 2.06-2.06.94z\"/><path d=\"M17.41 7.96l-1.37-1.37c-.4-.4-.92-.59-1.43-.59-.52 0-1.04.2-1.43.59L10.3 9.45l-7.72 7.72c-.78.78-.78 2.05 0 2.83L4 21.41c.39.39.9.59 1.41.59.51 0 1.02-.2 1.41-.59l7.78-7.78 2.81-2.81c.8-.78.8-2.07 0-2.86zM5.41 20L4 18.59l7.72-7.72 1.47 1.35L5.41 20z\"/>\n",
              "  </svg>\n",
              "      </button>\n",
              "      \n",
              "  <style>\n",
              "    .colab-df-container {\n",
              "      display:flex;\n",
              "      flex-wrap:wrap;\n",
              "      gap: 12px;\n",
              "    }\n",
              "\n",
              "    .colab-df-convert {\n",
              "      background-color: #E8F0FE;\n",
              "      border: none;\n",
              "      border-radius: 50%;\n",
              "      cursor: pointer;\n",
              "      display: none;\n",
              "      fill: #1967D2;\n",
              "      height: 32px;\n",
              "      padding: 0 0 0 0;\n",
              "      width: 32px;\n",
              "    }\n",
              "\n",
              "    .colab-df-convert:hover {\n",
              "      background-color: #E2EBFA;\n",
              "      box-shadow: 0px 1px 2px rgba(60, 64, 67, 0.3), 0px 1px 3px 1px rgba(60, 64, 67, 0.15);\n",
              "      fill: #174EA6;\n",
              "    }\n",
              "\n",
              "    [theme=dark] .colab-df-convert {\n",
              "      background-color: #3B4455;\n",
              "      fill: #D2E3FC;\n",
              "    }\n",
              "\n",
              "    [theme=dark] .colab-df-convert:hover {\n",
              "      background-color: #434B5C;\n",
              "      box-shadow: 0px 1px 3px 1px rgba(0, 0, 0, 0.15);\n",
              "      filter: drop-shadow(0px 1px 2px rgba(0, 0, 0, 0.3));\n",
              "      fill: #FFFFFF;\n",
              "    }\n",
              "  </style>\n",
              "\n",
              "      <script>\n",
              "        const buttonEl =\n",
              "          document.querySelector('#df-dc24fe13-c84e-4936-9a28-b17cdce60f8d button.colab-df-convert');\n",
              "        buttonEl.style.display =\n",
              "          google.colab.kernel.accessAllowed ? 'block' : 'none';\n",
              "\n",
              "        async function convertToInteractive(key) {\n",
              "          const element = document.querySelector('#df-dc24fe13-c84e-4936-9a28-b17cdce60f8d');\n",
              "          const dataTable =\n",
              "            await google.colab.kernel.invokeFunction('convertToInteractive',\n",
              "                                                     [key], {});\n",
              "          if (!dataTable) return;\n",
              "\n",
              "          const docLinkHtml = 'Like what you see? Visit the ' +\n",
              "            '<a target=\"_blank\" href=https://colab.research.google.com/notebooks/data_table.ipynb>data table notebook</a>'\n",
              "            + ' to learn more about interactive tables.';\n",
              "          element.innerHTML = '';\n",
              "          dataTable['output_type'] = 'display_data';\n",
              "          await google.colab.output.renderOutput(dataTable, element);\n",
              "          const docLink = document.createElement('div');\n",
              "          docLink.innerHTML = docLinkHtml;\n",
              "          element.appendChild(docLink);\n",
              "        }\n",
              "      </script>\n",
              "    </div>\n",
              "  </div>\n",
              "  "
            ]
          },
          "metadata": {},
          "execution_count": 140
        }
      ]
    },
    {
      "cell_type": "code",
      "source": [
        "def word_for_id(integer, tokenizer):\n",
        "    # map an integer to a word\n",
        "    for word, index in tokenizer.word_index.items():\n",
        "        if index == integer:\n",
        "            return word\n",
        "    return None"
      ],
      "metadata": {
        "id": "4AJYiOtERAEy"
      },
      "execution_count": 141,
      "outputs": []
    },
    {
      "cell_type": "code",
      "source": [
        "def predict_seq(model, tokenizer, source):\n",
        "    # generate target from a source sequence\n",
        "    prediction = model.predict(source, verbose=0)[0]\n",
        "    integers = [np.argmax(vector) for vector in prediction]\n",
        "    target = list()\n",
        "    for i in integers:\n",
        "        word = word_for_id(i, tokenizer)\n",
        "        if word is None:\n",
        "            break\n",
        "        target.append(word)\n",
        "    return ' '.join(target)"
      ],
      "metadata": {
        "id": "rajrvwShQ2x8"
      },
      "execution_count": 142,
      "outputs": []
    },
    {
      "cell_type": "code",
      "source": [
        "from nltk.translate.bleu_score import corpus_bleu\n",
        "def bleu_score(model, tokenizer, sources, raw_dataset):\n",
        "    # Get the bleu score of a model\n",
        "    actual, predicted = [], []\n",
        "    for i, source in enumerate(sources):\n",
        "        # translate encoded source text\n",
        "        source = source.reshape((1, source.shape[0]))\n",
        "        translation = predict_seq(model, tokenizer, source)\n",
        "        raw_target, raw_src = raw_dataset[i]\n",
        "        actual.append([raw_target.split()])\n",
        "        predicted.append(translation.split())\n",
        "        \n",
        "    bleu_dic = {}\n",
        "    bleu_dic['1-grams'] = corpus_bleu(actual, predicted, weights=(1.0, 0, 0, 0))\n",
        "    bleu_dic['1-2-grams'] = corpus_bleu(actual, predicted, weights=(0.5, 0.5, 0, 0))\n",
        "    bleu_dic['1-3-grams'] = corpus_bleu(actual, predicted, weights=(0.3, 0.3, 0.3, 0))\n",
        "    bleu_dic['1-4-grams'] = corpus_bleu(actual, predicted, weights=(0.25, 0.25, 0.25, 0.25))\n",
        "    \n",
        "    return bleu_dic"
      ],
      "metadata": {
        "id": "JBigKX7ZOk84"
      },
      "execution_count": 143,
      "outputs": []
    },
    {
      "cell_type": "code",
      "source": [
        "# Compute the BLEU Score\n",
        "bleu_test = bleu_score(model, turkish_tokenizer, testX, test)"
      ],
      "metadata": {
        "id": "9k1hTqjSO0im"
      },
      "execution_count": 144,
      "outputs": []
    },
    {
      "cell_type": "code",
      "source": [
        "plt.bar(x = bleu_test.keys(), height = bleu_test.values())\n",
        "plt.title(\"BLEU Score with the test set\")\n",
        "plt.ylim((0,1))\n",
        "plt.show()"
      ],
      "metadata": {
        "id": "sysT0DG3O32a",
        "colab": {
          "base_uri": "https://localhost:8080/",
          "height": 281
        },
        "outputId": "dd938abf-6dcc-4938-bb49-a56bbb70a74f"
      },
      "execution_count": 146,
      "outputs": [
        {
          "output_type": "display_data",
          "data": {
            "text/plain": [
              "<Figure size 432x288 with 1 Axes>"
            ],
            "image/png": "[encoded data removed]"
          },
          "metadata": {
            "needs_background": "light"
          }
        }
      ]
    }
  ]
}