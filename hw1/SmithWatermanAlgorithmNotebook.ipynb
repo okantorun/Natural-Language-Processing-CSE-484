{
 "cells": [
  {
   "cell_type": "code",
   "execution_count": 11,
   "id": "9701dbb9",
   "metadata": {},
   "outputs": [],
   "source": [
    "import numpy as np\n",
    "from enum import IntEnum"
   ]
  },
  {
   "cell_type": "code",
   "execution_count": 12,
   "id": "5d1f2801",
   "metadata": {},
   "outputs": [],
   "source": [
    "class Score(IntEnum):\n",
    "    match = 2\n",
    "    mismatch = -1\n",
    "    gap_cost = -1"
   ]
  },
  {
   "cell_type": "code",
   "execution_count": 8,
   "id": "a68fabef",
   "metadata": {},
   "outputs": [],
   "source": [
    "def smith_waterman_algorithm(line1, line2):\n",
    "    matrix_result = np.zeros((len(line1) + 1, len(line2) + 1), int)\n",
    "    for i in range(1,len(matrix_result)): \n",
    "        for j in range(1,len(matrix_result[0])):\n",
    "            if line1[i - 1] == line2[j - 1]:\n",
    "                 substitution = matrix_result[i - 1, j - 1] + Score.match\n",
    "            else:\n",
    "                substitution = matrix_result[i - 1, j - 1] + Score.mismatch\n",
    "            delete = matrix_result[i - 1, j] + Score.gap_cost\n",
    "            insert = matrix_result[i, j - 1] + Score.gap_cost\n",
    "            matrix_result[i, j] = max(substitution, delete, insert, 0)\n",
    "\n",
    "    return matrix_result"
   ]
  },
  {
   "cell_type": "code",
   "execution_count": 9,
   "id": "74c6af0b",
   "metadata": {},
   "outputs": [],
   "source": [
    "def traceback(matrix_result, line1, line2, alignment1='',alignment2=''):\n",
    "    max_point=0\n",
    "    max_i = 0\n",
    "    max_j =0\n",
    "    first_control = 0\n",
    "    for i in range(1,len(matrix_result)): \n",
    "        for j in range(1,len(matrix_result[0])):\n",
    "            if matrix_result[i][j] > max_point or matrix_result[i][j] == max_point :\n",
    "                max_point = matrix_result[i][j]\n",
    "                max_i = i\n",
    "                max_j = j\n",
    "\n",
    "    while matrix_result[max_i, max_j] != 0:\n",
    "        up = matrix_result[max_i-1, max_j]\n",
    "        left = matrix_result[max_i, max_j-1]\n",
    "        diagonal = matrix_result[max_i-1, max_j-1]\n",
    "        best_way = max(up,left,diagonal)\n",
    "\n",
    "        if best_way == 0:\n",
    "            alignment1 = alignment1[::-1]\n",
    "            alignment2 = alignment2[::-1]\n",
    "            return alignment1,alignment2\n",
    "\n",
    "        if first_control == 0: \n",
    "            alignment1 = alignment1 + line1[max_i-1]\n",
    "            alignment2 = alignment2 + line2[max_j-1]\n",
    "\n",
    "        if best_way == diagonal:\n",
    "            if line1[max_i-2] == line2[max_j-2]:\n",
    "                alignment1 = alignment1 + line1[max_i-2]\n",
    "                alignment2 = alignment2 + line2[max_j-2]\n",
    "                max_i = max_i - 1\n",
    "                max_j = max_j - 1\n",
    "            else:\n",
    "                alignment1 = alignment1 + line1[max_i-2]\n",
    "                alignment2 = alignment2 + '-'\n",
    "                max_i = max_i - 1\n",
    "                max_j = max_j - 1\n",
    "\n",
    "        elif best_way == up:\n",
    "            alignment1 = alignment1 + '-'\n",
    "            max_i = max_i - 1\n",
    "        \n",
    "        elif best_way == left:\n",
    "            alignment2 = alignment2 + '-'\n",
    "            max_j = max_j - 1\n",
    "        first_control = 1 \n",
    "\n",
    "    alignment1 = alignment1[::-1]\n",
    "    alignment2 = alignment2[::-1]\n",
    "    return alignment1,alignment2"
   ]
  },
  {
   "cell_type": "code",
   "execution_count": 15,
   "id": "dd7533d3",
   "metadata": {},
   "outputs": [],
   "source": [
    "def read_file():\n",
    "    fileName1 = input(\"Enter name of file1 : \")\n",
    "    fileName2 = input(\"Enter name of file2 : \")\n",
    "\n",
    "    file1 = open(\"textFiles/\"+fileName1, 'r', encoding=\"utf8\")\n",
    "    Lines = file1.readlines()\n",
    "    file2 = open(\"textFiles/\"+fileName2, 'r', encoding=\"utf8\")\n",
    "    Lines2 = file2.readlines()\n",
    "\n",
    "    for line1 in Lines:\n",
    "        for line2 in Lines2:\n",
    "            if len(line1)>5 and len(line2)>5:\n",
    "                H = smith_waterman_algorithm(line1, line2)\n",
    "                alignment1, alignment2 = traceback(H,line1,line2)\n",
    "                if line1==alignment2:\n",
    "                    print(H)\n",
    "                    print(\"line1: \"+alignment1)\n",
    "                    print(\"line2: \"+alignment2)\n",
    "                    print(\"Lines are the same\")"
   ]
  },
  {
   "cell_type": "code",
   "execution_count": 16,
   "id": "b7c2221e",
   "metadata": {
    "scrolled": true
   },
   "outputs": [
    {
     "name": "stdout",
     "output_type": "stream",
     "text": [
      "Enter name of file1 : belge4.txt\n",
      "Enter name of file2 : belge5.txt\n",
      "[[ 0  0  0  0  0  0  0  0  0  0  0  0  0]\n",
      " [ 0  2  1  0  0  2  1  0  0  0  0  0  0]\n",
      " [ 0  1  4  3  2  1  1  0  0  0  0  0  0]\n",
      " [ 0  0  3  6  5  4  3  2  1  0  0  0  0]\n",
      " [ 0  0  2  5  8  7  6  5  4  3  2  1  0]\n",
      " [ 0  2  1  4  7 10  9  8  7  6  5  4  3]\n",
      " [ 0  1  1  3  6  9 12 11 10  9  8  7  6]\n",
      " [ 0  0  0  2  5  8 11 14 13 12 11 10  9]\n",
      " [ 0  0  0  1  4  7 10 13 16 15 14 13 12]\n",
      " [ 0  0  0  0  3  6  9 12 15 18 17 16 15]\n",
      " [ 0  0  0  0  2  5  8 11 14 17 20 19 18]\n",
      " [ 0  0  0  0  1  4  7 10 13 16 19 22 21]\n",
      " [ 0  0  0  0  0  3  6  9 12 15 18 21 24]]\n",
      "line1: neden olur.\n",
      "\n",
      "line2: neden olur.\n",
      "\n",
      "Lines are the same\n",
      "[[ 0  0  0  0  0  0  0]\n",
      " [ 0  2  1  0  0  0  0]\n",
      " [ 0  1  4  3  2  1  0]\n",
      " [ 0  0  3  6  5  4  3]\n",
      " [ 0  0  2  5  8  7  6]\n",
      " [ 0  0  1  4  7 10  9]\n",
      " [ 0  0  0  3  6  9 12]]\n",
      "line1: Kitin\n",
      "\n",
      "line2: Kitin\n",
      "\n",
      "Lines are the same\n",
      "[[ 0  0  0  0  0  0  0  0  0  0]\n",
      " [ 0  2  1  0  0  0  0  0  0  0]\n",
      " [ 0  1  4  3  2  1  0  0  0  0]\n",
      " [ 0  0  3  6  5  4  3  2  1  0]\n",
      " [ 0  0  2  5  8  7  6  5  4  3]\n",
      " [ 0  0  1  4  7 10  9  8  7  6]\n",
      " [ 0  0  0  3  6  9 12 11 10  9]\n",
      " [ 0  0  0  2  5  8 11 14 13 12]\n",
      " [ 0  0  0  1  4  7 10 13 16 15]\n",
      " [ 0  0  0  0  3  6  9 12 15 18]]\n",
      "line1: Glikojen\n",
      "\n",
      "line2: Glikojen\n",
      "\n",
      "Lines are the same\n"
     ]
    }
   ],
   "source": [
    "if __name__ == \"__main__\":\n",
    "    read_file()"
   ]
  },
  {
   "cell_type": "code",
   "execution_count": null,
   "id": "5aab66e4",
   "metadata": {},
   "outputs": [],
   "source": []
  }
 ],
 "metadata": {
  "kernelspec": {
   "display_name": "Python 3 (ipykernel)",
   "language": "python",
   "name": "python3"
  },
  "language_info": {
   "codemirror_mode": {
    "name": "ipython",
    "version": 3
   },
   "file_extension": ".py",
   "mimetype": "text/x-python",
   "name": "python",
   "nbconvert_exporter": "python",
   "pygments_lexer": "ipython3",
   "version": "3.9.12"
  }
 },
 "nbformat": 4,
 "nbformat_minor": 5
}
